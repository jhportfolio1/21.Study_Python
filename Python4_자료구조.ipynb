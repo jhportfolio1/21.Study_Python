{
  "nbformat": 4,
  "nbformat_minor": 0,
  "metadata": {
    "colab": {
      "provenance": [],
      "authorship_tag": "ABX9TyMBc6fak1t8RFehbFt46mmX",
      "include_colab_link": true
    },
    "kernelspec": {
      "name": "python3",
      "display_name": "Python 3"
    },
    "language_info": {
      "name": "python"
    }
  },
  "cells": [
    {
      "cell_type": "markdown",
      "metadata": {
        "id": "view-in-github",
        "colab_type": "text"
      },
      "source": [
        "<a href=\"https://colab.research.google.com/github/jhportfolio1/SelfStudy-Python/blob/main/Python4_%EC%9E%90%EB%A3%8C%EA%B5%AC%EC%A1%B0.ipynb\" target=\"_parent\"><img src=\"https://colab.research.google.com/assets/colab-badge.svg\" alt=\"Open In Colab\"/></a>"
      ]
    },
    {
      "cell_type": "markdown",
      "source": [
        "# 1. 리스트"
      ],
      "metadata": {
        "id": "2HDmVhQPJUGu"
      }
    },
    {
      "cell_type": "markdown",
      "source": [
        "## 1) 리스트 생성하기"
      ],
      "metadata": {
        "id": "Gn1A5Vb9JUjQ"
      }
    },
    {
      "cell_type": "markdown",
      "source": [
        "- 리스트명 = [값1, 값2, ...]\n",
        "- 빈 리스트 : empty_list = []"
      ],
      "metadata": {
        "id": "AdHW5FV6KA4O"
      }
    },
    {
      "cell_type": "code",
      "source": [
        "subway = [1,2,3]\n",
        "print(subway)"
      ],
      "metadata": {
        "colab": {
          "base_uri": "https://localhost:8080/"
        },
        "id": "3xdS3JROKFo7",
        "outputId": "e64e33ad-ba1e-480f-d364-4fbc390661bb"
      },
      "execution_count": 1,
      "outputs": [
        {
          "output_type": "stream",
          "name": "stdout",
          "text": [
            "[1, 2, 3]\n"
          ]
        }
      ]
    },
    {
      "cell_type": "markdown",
      "source": [
        "## 2) 값 추가/삽입/삭제하기"
      ],
      "metadata": {
        "id": "u4V5z7bCJUow"
      }
    },
    {
      "cell_type": "markdown",
      "source": [
        "- 값 위치 확인하기"
      ],
      "metadata": {
        "id": "O3uTXccPKTmB"
      }
    },
    {
      "cell_type": "code",
      "source": [
        "subway = [\"1호선\", \"2호선\", \"3호선\"]\n",
        "print(subway.index(\"2호선\"))"
      ],
      "metadata": {
        "colab": {
          "base_uri": "https://localhost:8080/"
        },
        "id": "ok0W71EuKXH4",
        "outputId": "fff1df68-49f3-4b89-e52c-07d7b8676772"
      },
      "execution_count": 3,
      "outputs": [
        {
          "output_type": "stream",
          "name": "stdout",
          "text": [
            "1\n"
          ]
        }
      ]
    },
    {
      "cell_type": "markdown",
      "source": [
        "- 값 추가하기(append)"
      ],
      "metadata": {
        "id": "0YBj-plaKh9k"
      }
    },
    {
      "cell_type": "code",
      "source": [
        "subway.append(\"4호선\")\n",
        "print(subway)"
      ],
      "metadata": {
        "colab": {
          "base_uri": "https://localhost:8080/"
        },
        "id": "7Znt5knuKlUJ",
        "outputId": "e407a329-ae03-44b3-8b21-22dd96dcd400"
      },
      "execution_count": 4,
      "outputs": [
        {
          "output_type": "stream",
          "name": "stdout",
          "text": [
            "['1호선', '2호선', '3호선', '4호선']\n"
          ]
        }
      ]
    },
    {
      "cell_type": "markdown",
      "source": [
        "- 값 추가하기(insert)"
      ],
      "metadata": {
        "id": "qGvaUik3Ktup"
      }
    },
    {
      "cell_type": "code",
      "source": [
        "subway.insert(4, \"5호선\")\n",
        "print(subway)"
      ],
      "metadata": {
        "colab": {
          "base_uri": "https://localhost:8080/"
        },
        "id": "CMePyMB6K8xC",
        "outputId": "9f3dbf77-d781-4a0f-9702-b236816a59d3"
      },
      "execution_count": 5,
      "outputs": [
        {
          "output_type": "stream",
          "name": "stdout",
          "text": [
            "['1호선', '2호선', '3호선', '4호선', '5호선']\n"
          ]
        }
      ]
    },
    {
      "cell_type": "markdown",
      "source": [
        "- 값 삭제하기(pop) : 맨뒤 인덱스부터 순차적으로 빠짐"
      ],
      "metadata": {
        "id": "ABi515vCLCLN"
      }
    },
    {
      "cell_type": "code",
      "source": [
        "print(subway.pop())\n",
        "print(subway)"
      ],
      "metadata": {
        "colab": {
          "base_uri": "https://localhost:8080/"
        },
        "id": "XbycSgB6LHH9",
        "outputId": "19eff183-1262-4108-d65a-be89bf7b3926"
      },
      "execution_count": 6,
      "outputs": [
        {
          "output_type": "stream",
          "name": "stdout",
          "text": [
            "5호선\n",
            "['1호선', '2호선', '3호선', '4호선']\n"
          ]
        }
      ]
    },
    {
      "cell_type": "code",
      "source": [
        "print(subway.pop())\n",
        "print(subway)"
      ],
      "metadata": {
        "colab": {
          "base_uri": "https://localhost:8080/"
        },
        "id": "yEXSAt8_LMNw",
        "outputId": "2655e450-c6ed-449e-82c0-4947456649d4"
      },
      "execution_count": 7,
      "outputs": [
        {
          "output_type": "stream",
          "name": "stdout",
          "text": [
            "4호선\n",
            "['1호선', '2호선', '3호선']\n"
          ]
        }
      ]
    },
    {
      "cell_type": "code",
      "source": [
        "print(subway.pop())\n",
        "print(subway)"
      ],
      "metadata": {
        "colab": {
          "base_uri": "https://localhost:8080/"
        },
        "id": "UUCsFmH4LNFS",
        "outputId": "0e14b812-b1f8-4c97-827f-e552181f7ab9"
      },
      "execution_count": 8,
      "outputs": [
        {
          "output_type": "stream",
          "name": "stdout",
          "text": [
            "3호선\n",
            "['1호선', '2호선']\n"
          ]
        }
      ]
    },
    {
      "cell_type": "code",
      "source": [
        "print(subway.pop())\n",
        "print(subway)"
      ],
      "metadata": {
        "colab": {
          "base_uri": "https://localhost:8080/"
        },
        "id": "E4WjxiF-LN3x",
        "outputId": "080e6f58-f004-486d-8f9f-c63b988d450e"
      },
      "execution_count": 9,
      "outputs": [
        {
          "output_type": "stream",
          "name": "stdout",
          "text": [
            "2호선\n",
            "['1호선']\n"
          ]
        }
      ]
    },
    {
      "cell_type": "markdown",
      "source": [
        "- 값 전체삭제"
      ],
      "metadata": {
        "id": "cSj726ysLQGI"
      }
    },
    {
      "cell_type": "code",
      "source": [
        "subway.clear()\n",
        "print(subway)"
      ],
      "metadata": {
        "colab": {
          "base_uri": "https://localhost:8080/"
        },
        "id": "eNwgtPOXLRuH",
        "outputId": "35f66ebf-025c-4c7f-ef44-d85661cb20a0"
      },
      "execution_count": 10,
      "outputs": [
        {
          "output_type": "stream",
          "name": "stdout",
          "text": [
            "[]\n"
          ]
        }
      ]
    },
    {
      "cell_type": "markdown",
      "source": [
        "## 3) 중복 값 확인하기"
      ],
      "metadata": {
        "id": "JucyOGIAJUuV"
      }
    },
    {
      "cell_type": "markdown",
      "source": [
        "- count 함수로 확인"
      ],
      "metadata": {
        "id": "OAX9dPDrLb5o"
      }
    },
    {
      "cell_type": "code",
      "source": [],
      "metadata": {
        "id": "3PDPi9EfXWEW"
      },
      "execution_count": null,
      "outputs": []
    },
    {
      "cell_type": "code",
      "source": [
        "subway = [\"1호선\", \"2호선\", \"3호선\"]\n",
        "subway.append(\"1호선\")\n",
        "\n",
        "print(subway.count(\"1호선\"))"
      ],
      "metadata": {
        "colab": {
          "base_uri": "https://localhost:8080/"
        },
        "id": "GjKy48J5Lmak",
        "outputId": "a889aeec-433f-460d-b703-64cbae0484d4"
      },
      "execution_count": 12,
      "outputs": [
        {
          "output_type": "stream",
          "name": "stdout",
          "text": [
            "2\n"
          ]
        }
      ]
    },
    {
      "cell_type": "markdown",
      "source": [
        "## 4) 리스트 정렬하기"
      ],
      "metadata": {
        "id": "7ynsQ2RtJUzN"
      }
    },
    {
      "cell_type": "markdown",
      "source": [
        "- 오름차순 정리 : list.sort()"
      ],
      "metadata": {
        "id": "1866cS-yLwAN"
      }
    },
    {
      "cell_type": "code",
      "source": [
        "num_list = [1,2,3,4,5,6,7]\n",
        "num_list.sort()\n",
        "print(num_list)"
      ],
      "metadata": {
        "colab": {
          "base_uri": "https://localhost:8080/"
        },
        "id": "iu5Cv5JuL4CK",
        "outputId": "b0a5d419-0910-4e39-b3f1-2d8d3040e327"
      },
      "execution_count": 14,
      "outputs": [
        {
          "output_type": "stream",
          "name": "stdout",
          "text": [
            "[1, 2, 3, 4, 5, 6, 7]\n"
          ]
        }
      ]
    },
    {
      "cell_type": "markdown",
      "source": [
        "- 내림차순 정리 : list.sort(reverse=True)"
      ],
      "metadata": {
        "id": "N9AEtk_qMAyD"
      }
    },
    {
      "cell_type": "code",
      "source": [
        "num_list = [1,2,3,4,5,6,7]\n",
        "num_list.sort(reverse=True)\n",
        "print(num_list)"
      ],
      "metadata": {
        "colab": {
          "base_uri": "https://localhost:8080/"
        },
        "id": "OMehV1wrMItp",
        "outputId": "58ea0dbe-06f5-4218-f40e-399a96a903f4"
      },
      "execution_count": 16,
      "outputs": [
        {
          "output_type": "stream",
          "name": "stdout",
          "text": [
            "[7, 6, 5, 4, 3, 2, 1]\n"
          ]
        }
      ]
    },
    {
      "cell_type": "markdown",
      "source": [
        "- 순서 뒤집기 : list.reverse()"
      ],
      "metadata": {
        "id": "wJ8wJnGEMPMb"
      }
    },
    {
      "cell_type": "code",
      "source": [
        "num_list = [1, 11, 87, 21, 57]\n",
        "num_list.reverse()\n",
        "print(num_list)"
      ],
      "metadata": {
        "colab": {
          "base_uri": "https://localhost:8080/"
        },
        "id": "IjdWq1TUMSxe",
        "outputId": "02f26d25-1a88-44c8-ea3f-9721237f3cbc"
      },
      "execution_count": 19,
      "outputs": [
        {
          "output_type": "stream",
          "name": "stdout",
          "text": [
            "[57, 21, 87, 11, 1]\n"
          ]
        }
      ]
    },
    {
      "cell_type": "markdown",
      "source": [
        "## 5) 리스트 확장하기"
      ],
      "metadata": {
        "id": "RbI3NMHwJU3o"
      }
    },
    {
      "cell_type": "markdown",
      "source": [
        "- 리스트 안에 정수, 실수, 문자, 불형(참거짓) 들어감\n",
        "- 리스트끼리 합치기 가능"
      ],
      "metadata": {
        "id": "x3pVg0tJMgsM"
      }
    },
    {
      "cell_type": "code",
      "source": [
        "mix_list = [\"박지혜\", 30, 1.7, True, [1,2,3,4,5]]\n",
        "print(mix_list)"
      ],
      "metadata": {
        "colab": {
          "base_uri": "https://localhost:8080/"
        },
        "id": "Z_QXrwqCObn_",
        "outputId": "1f568593-a1a0-4749-9130-bd6afe454f9f"
      },
      "execution_count": 21,
      "outputs": [
        {
          "output_type": "stream",
          "name": "stdout",
          "text": [
            "['박지혜', 30, 1.7, True, [1, 2, 3, 4, 5]]\n"
          ]
        }
      ]
    },
    {
      "cell_type": "markdown",
      "source": [
        "# 2. 딕셔너리"
      ],
      "metadata": {
        "id": "9tMXCEelJU-i"
      }
    },
    {
      "cell_type": "markdown",
      "source": [
        "## 1) 딕셔너리 생성하기"
      ],
      "metadata": {
        "id": "eyr1SZjHJVDH"
      }
    },
    {
      "cell_type": "markdown",
      "source": [
        "- 딕셔너리명 = {키1:값1, 키2:값2, ..}\n",
        "- 키 : 중복허용하지 않음 / 정수형, 문자형 모두 가능함\n",
        "- 빈 딕셔너리 : empty_dic=[ ] "
      ],
      "metadata": {
        "id": "RcFxRHwzO4gz"
      }
    },
    {
      "cell_type": "code",
      "source": [
        "cabinet = {3: \"푸\", 100:\"피글렛\"}\n",
        "\n",
        "print(cabinet[3])\n",
        "print(cabinet[100])"
      ],
      "metadata": {
        "colab": {
          "base_uri": "https://localhost:8080/"
        },
        "id": "kWPXt13OPu9n",
        "outputId": "6bba4cd3-01a5-40f4-d331-98bc40f30f2d"
      },
      "execution_count": 23,
      "outputs": [
        {
          "output_type": "stream",
          "name": "stdout",
          "text": [
            "푸\n",
            "피글렛\n"
          ]
        }
      ]
    },
    {
      "cell_type": "markdown",
      "source": [
        "- 딕셔너리 안에 값이 있는지 참거짓으로 확인 가능"
      ],
      "metadata": {
        "id": "O31K96zvQOyq"
      }
    },
    {
      "cell_type": "code",
      "source": [
        "print(3 in cabinet)\n",
        "print(5 in cabinet)"
      ],
      "metadata": {
        "colab": {
          "base_uri": "https://localhost:8080/"
        },
        "id": "a9Bfn-mWQSU2",
        "outputId": "4430b3ad-bea4-4b96-fe95-597132a5cb2f"
      },
      "execution_count": 24,
      "outputs": [
        {
          "output_type": "stream",
          "name": "stdout",
          "text": [
            "True\n",
            "False\n"
          ]
        }
      ]
    },
    {
      "cell_type": "markdown",
      "source": [
        "## 2) 값 변경/추가/삭제하기"
      ],
      "metadata": {
        "id": "dQOQwqGDJVG-"
      }
    },
    {
      "cell_type": "code",
      "source": [
        "cabinet = {1:\"푸\", 2:\"피글렛\"}\n",
        "print(cabinet)"
      ],
      "metadata": {
        "colab": {
          "base_uri": "https://localhost:8080/"
        },
        "id": "ikjki_deQ-p-",
        "outputId": "f8264328-5e8d-4d94-8292-7e19263d11ad"
      },
      "execution_count": 25,
      "outputs": [
        {
          "output_type": "stream",
          "name": "stdout",
          "text": [
            "{1: '푸', 2: '피글렛'}\n"
          ]
        }
      ]
    },
    {
      "cell_type": "markdown",
      "source": [
        "- 값 변경"
      ],
      "metadata": {
        "id": "CHs2NiZHQwQ5"
      }
    },
    {
      "cell_type": "code",
      "source": [
        "cabinet[1] = \"티거\"\n",
        "print(cabinet)"
      ],
      "metadata": {
        "colab": {
          "base_uri": "https://localhost:8080/"
        },
        "id": "TCMmdVm5RJvF",
        "outputId": "e232355b-a51a-4637-d824-da2b528f521e"
      },
      "execution_count": 26,
      "outputs": [
        {
          "output_type": "stream",
          "name": "stdout",
          "text": [
            "{1: '티거', 2: '피글렛'}\n"
          ]
        }
      ]
    },
    {
      "cell_type": "markdown",
      "source": [
        "- 값 추가"
      ],
      "metadata": {
        "id": "_2LbrbebRNu_"
      }
    },
    {
      "cell_type": "code",
      "source": [
        "cabinet[3] = \"두부\"\n",
        "print(cabinet)"
      ],
      "metadata": {
        "colab": {
          "base_uri": "https://localhost:8080/"
        },
        "id": "qgPVOYo-RPgp",
        "outputId": "b585d332-91f1-453a-c682-a912b053ab77"
      },
      "execution_count": 27,
      "outputs": [
        {
          "output_type": "stream",
          "name": "stdout",
          "text": [
            "{1: '티거', 2: '피글렛', 3: '두부'}\n"
          ]
        }
      ]
    },
    {
      "cell_type": "markdown",
      "source": [
        "- 값 삭제"
      ],
      "metadata": {
        "id": "kqreHLbeRSlX"
      }
    },
    {
      "cell_type": "code",
      "source": [
        "del cabinet[2]\n",
        "print(cabinet)"
      ],
      "metadata": {
        "colab": {
          "base_uri": "https://localhost:8080/"
        },
        "id": "efoleA1ORU5p",
        "outputId": "493f88d6-0422-4e74-8fd4-8927a03d7e3f"
      },
      "execution_count": 28,
      "outputs": [
        {
          "output_type": "stream",
          "name": "stdout",
          "text": [
            "{1: '티거', 3: '두부'}\n"
          ]
        }
      ]
    },
    {
      "cell_type": "markdown",
      "source": [
        "## 3) 값 확인하기"
      ],
      "metadata": {
        "id": "hev-xe6aJVLL"
      }
    },
    {
      "cell_type": "markdown",
      "source": [
        "- 키만 확인하고 싶을때 : keys()"
      ],
      "metadata": {
        "id": "-BpfbNe9RbRi"
      }
    },
    {
      "cell_type": "code",
      "source": [
        "print(cabinet.keys())"
      ],
      "metadata": {
        "colab": {
          "base_uri": "https://localhost:8080/"
        },
        "id": "Idp2WlqVRg5J",
        "outputId": "c8d8cd8b-fca2-4fae-d81f-2c606b86c642"
      },
      "execution_count": 29,
      "outputs": [
        {
          "output_type": "stream",
          "name": "stdout",
          "text": [
            "dict_keys([1, 3])\n"
          ]
        }
      ]
    },
    {
      "cell_type": "markdown",
      "source": [
        "-  값만 확인하고 싶을 때 : values()"
      ],
      "metadata": {
        "id": "plpoZSNbRkpS"
      }
    },
    {
      "cell_type": "code",
      "source": [
        "print(cabinet.values())"
      ],
      "metadata": {
        "colab": {
          "base_uri": "https://localhost:8080/"
        },
        "id": "mCku0gc8RpXp",
        "outputId": "857d9d13-1484-4278-8e25-ba8350345cf0"
      },
      "execution_count": 30,
      "outputs": [
        {
          "output_type": "stream",
          "name": "stdout",
          "text": [
            "dict_values(['티거', '두부'])\n"
          ]
        }
      ]
    },
    {
      "cell_type": "markdown",
      "source": [
        "- 키, 값 쌍으로 확인하고 싶을 때 : items()"
      ],
      "metadata": {
        "id": "f_TTcEo3Rwuk"
      }
    },
    {
      "cell_type": "code",
      "source": [
        "print(cabinet.items())"
      ],
      "metadata": {
        "colab": {
          "base_uri": "https://localhost:8080/"
        },
        "id": "pg2zYQYeRt9H",
        "outputId": "e70f1e6c-01b7-44a3-a102-c25682759523"
      },
      "execution_count": 32,
      "outputs": [
        {
          "output_type": "stream",
          "name": "stdout",
          "text": [
            "dict_items([(1, '티거'), (3, '두부')])\n"
          ]
        }
      ]
    },
    {
      "cell_type": "markdown",
      "source": [
        "# 3. 튜플"
      ],
      "metadata": {
        "id": "kt-tN8InJVP9"
      }
    },
    {
      "cell_type": "markdown",
      "source": [
        "- 튜플명 = (값1, 값2, ...)\n",
        "- 리스트의 읽기용 버전\n",
        "- 처음 정의할 때 외에, 값의 변경/추가/삭제 불가"
      ],
      "metadata": {
        "id": "otIkYPenSON8"
      }
    },
    {
      "cell_type": "code",
      "source": [
        "pet = (\"두부\", \"뽀\")\n",
        "print(pet[0])\n",
        "print(pet[1])"
      ],
      "metadata": {
        "colab": {
          "base_uri": "https://localhost:8080/"
        },
        "id": "lq_GVgmfSU0O",
        "outputId": "7ce9df5c-8340-4b05-c6c8-69876fb68dce"
      },
      "execution_count": 34,
      "outputs": [
        {
          "output_type": "stream",
          "name": "stdout",
          "text": [
            "두부\n",
            "뽀\n"
          ]
        }
      ]
    },
    {
      "cell_type": "markdown",
      "source": [
        "- 튜플 형태로 한 줄에 여러 변수 값 정의하기"
      ],
      "metadata": {
        "id": "btmGDE_6SsLo"
      }
    },
    {
      "cell_type": "code",
      "source": [
        "(name, age, hobby) = (\"두부\", 9, \"산책\")\n",
        "print(name, age, hobby)"
      ],
      "metadata": {
        "colab": {
          "base_uri": "https://localhost:8080/"
        },
        "id": "4zLX1zxaSyR_",
        "outputId": "df05f01e-fa51-4d4c-8a3f-03272fccdee1"
      },
      "execution_count": 35,
      "outputs": [
        {
          "output_type": "stream",
          "name": "stdout",
          "text": [
            "두부 9 산책\n"
          ]
        }
      ]
    },
    {
      "cell_type": "markdown",
      "source": [
        "# 4. 세트"
      ],
      "metadata": {
        "id": "56GNH7RTJVUz"
      }
    },
    {
      "cell_type": "markdown",
      "source": [
        "- 세트명 = {값1, 값2, ...}\n",
        "- 데이터 순서 보장하지 않음\n",
        "- 데이터 중복 불가"
      ],
      "metadata": {
        "id": "Yk59kz9xS8sa"
      }
    },
    {
      "cell_type": "markdown",
      "source": [
        "- 데이터 추가(add), 데이터 삭제(remove)"
      ],
      "metadata": {
        "id": "AsI4J8QhXe0d"
      }
    },
    {
      "cell_type": "code",
      "source": [
        "my_menu = {\"떡볶이\", \"순대\", \"곱창\", \"피자\", \"위스키\"}\n",
        "your_menu = {\"순대\", \"파스타\", \"피자\", \"맥주\", \"소주\"}"
      ],
      "metadata": {
        "id": "kTI2D0kjTZGh"
      },
      "execution_count": 40,
      "outputs": []
    },
    {
      "cell_type": "markdown",
      "source": [
        "- 합집합 (| / union)\n"
      ],
      "metadata": {
        "id": "rXXhRRh9TUo0"
      }
    },
    {
      "cell_type": "code",
      "source": [
        "print(my_menu | your_menu)"
      ],
      "metadata": {
        "colab": {
          "base_uri": "https://localhost:8080/"
        },
        "id": "jjpALST8T1MC",
        "outputId": "ef86e9b6-cc59-4e62-a63d-b9db54bf625d"
      },
      "execution_count": 47,
      "outputs": [
        {
          "output_type": "stream",
          "name": "stdout",
          "text": [
            "{'떡볶이', '소주', '맥주', '순대', '곱창', '파스타', '피자', '위스키'}\n"
          ]
        }
      ]
    },
    {
      "cell_type": "code",
      "source": [
        "print(my_menu.union(your_menu))"
      ],
      "metadata": {
        "colab": {
          "base_uri": "https://localhost:8080/"
        },
        "id": "gnf0cvP8UG2S",
        "outputId": "956a77fe-f1fa-435f-f7dd-9ed30f79634d"
      },
      "execution_count": 48,
      "outputs": [
        {
          "output_type": "stream",
          "name": "stdout",
          "text": [
            "{'떡볶이', '소주', '맥주', '순대', '곱창', '파스타', '피자', '위스키'}\n"
          ]
        }
      ]
    },
    {
      "cell_type": "markdown",
      "source": [
        "- 교집합(& / intersection)"
      ],
      "metadata": {
        "id": "G0cVGUPwULra"
      }
    },
    {
      "cell_type": "code",
      "source": [
        "print(my_menu & your_menu)"
      ],
      "metadata": {
        "colab": {
          "base_uri": "https://localhost:8080/"
        },
        "id": "sAVEAQQOUN8P",
        "outputId": "4bcaff7d-59ed-4bf0-9e81-fe65b6363148"
      },
      "execution_count": 49,
      "outputs": [
        {
          "output_type": "stream",
          "name": "stdout",
          "text": [
            "{'순대', '피자'}\n"
          ]
        }
      ]
    },
    {
      "cell_type": "code",
      "source": [
        "print(my_menu.intersection( your_menu))"
      ],
      "metadata": {
        "colab": {
          "base_uri": "https://localhost:8080/"
        },
        "id": "yfNYf_wNUVyE",
        "outputId": "145fe45e-c6a0-44dd-8d26-3b04534fbfee"
      },
      "execution_count": 50,
      "outputs": [
        {
          "output_type": "stream",
          "name": "stdout",
          "text": [
            "{'순대', '피자'}\n"
          ]
        }
      ]
    },
    {
      "cell_type": "markdown",
      "source": [
        "- 차집합(- / difference)\n",
        "\n",
        "\n"
      ],
      "metadata": {
        "id": "J6YSxy9lURXj"
      }
    },
    {
      "cell_type": "code",
      "source": [
        "print(my_menu - your_menu)"
      ],
      "metadata": {
        "colab": {
          "base_uri": "https://localhost:8080/"
        },
        "id": "tY7zcGBUUjMx",
        "outputId": "0d6f86aa-29a6-47a6-e104-fb49e3a9d230"
      },
      "execution_count": 51,
      "outputs": [
        {
          "output_type": "stream",
          "name": "stdout",
          "text": [
            "{'위스키', '떡볶이', '곱창'}\n"
          ]
        }
      ]
    },
    {
      "cell_type": "code",
      "source": [
        "print(my_menu.difference( your_menu))"
      ],
      "metadata": {
        "colab": {
          "base_uri": "https://localhost:8080/"
        },
        "id": "yEMl0QWvUltV",
        "outputId": "a9dff8e3-7659-414a-8ded-d5d54a2929ac"
      },
      "execution_count": 52,
      "outputs": [
        {
          "output_type": "stream",
          "name": "stdout",
          "text": [
            "{'위스키', '떡볶이', '곱창'}\n"
          ]
        }
      ]
    },
    {
      "cell_type": "markdown",
      "source": [
        "# 5. 자료구조 변환하기"
      ],
      "metadata": {
        "id": "1pU7NSX4JVaC"
      }
    },
    {
      "cell_type": "markdown",
      "source": [
        "- 리스트 → 튜플 → 세트 → 리스트 자유롭게 변환 가능\n",
        "- 변환할구조명(변수명)"
      ],
      "metadata": {
        "id": "6qCvq4GOU6aB"
      }
    },
    {
      "cell_type": "code",
      "source": [
        "menu = [1,2,3]\n",
        "print(menu)\n",
        "print(type(menu))"
      ],
      "metadata": {
        "colab": {
          "base_uri": "https://localhost:8080/"
        },
        "id": "Zil4PjDhVJdd",
        "outputId": "88f972f6-f943-4330-9650-bcc7f47531a4"
      },
      "execution_count": 53,
      "outputs": [
        {
          "output_type": "stream",
          "name": "stdout",
          "text": [
            "[1, 2, 3]\n",
            "<class 'list'>\n"
          ]
        }
      ]
    },
    {
      "cell_type": "markdown",
      "source": [
        "- 리스트를 튜플로 변환하면, 괄호모양과 타입이 변경됨"
      ],
      "metadata": {
        "id": "0ix2C34pVi_S"
      }
    },
    {
      "cell_type": "code",
      "source": [
        "menu = tuple(menu)\n",
        "print(menu, type(menu))"
      ],
      "metadata": {
        "colab": {
          "base_uri": "https://localhost:8080/"
        },
        "id": "SuwjAsEhVcNT",
        "outputId": "8b06e19b-e5b3-4791-b3e8-b59a0a6d5522"
      },
      "execution_count": 55,
      "outputs": [
        {
          "output_type": "stream",
          "name": "stdout",
          "text": [
            "(1, 2, 3) <class 'tuple'>\n"
          ]
        }
      ]
    },
    {
      "cell_type": "markdown",
      "source": [
        "- 튜플을 세트로 변환하면, 괄호모양과 타입이 변경됨"
      ],
      "metadata": {
        "id": "rq-ji9nzVnzk"
      }
    },
    {
      "cell_type": "code",
      "source": [
        "menu = set(menu)\n",
        "print(menu, type(menu))"
      ],
      "metadata": {
        "colab": {
          "base_uri": "https://localhost:8080/"
        },
        "id": "i8_637r1Vn72",
        "outputId": "9918822e-0faf-492b-cffa-43eb26b47941"
      },
      "execution_count": 56,
      "outputs": [
        {
          "output_type": "stream",
          "name": "stdout",
          "text": [
            "{1, 2, 3} <class 'set'>\n"
          ]
        }
      ]
    },
    {
      "cell_type": "markdown",
      "source": [
        "# 6. 연습문제"
      ],
      "metadata": {
        "id": "cE_aplQsJVfV"
      }
    },
    {
      "cell_type": "markdown",
      "source": [
        "## 1) 당첨자 뽑기 문제\n",
        "### 문제 : 추첨을 통해 1명 치킨, 3명 커피 쿠폰 주는 추첨 프로그램 개발\n",
        "### 조건\n",
        "- 댓글은 20명이 작성했고, 아이디는 1-20까지\n",
        "- 무작위로 추첨하되 중복은 허용하지 않음 \n",
        "- random 모듈의 shuffle()과 sample()을 활용함\n",
        "- 실행결과는 다음과 같이 작성함\n",
        "> --- 당첨자 발표 ---\n",
        "> 치킨 당첨자 : 0\n",
        "> 커피 당첨자 : [0,0,0]\n",
        "> ---축하합니다.----"
      ],
      "metadata": {
        "id": "wqNd-JRRV4EO"
      }
    },
    {
      "cell_type": "markdown",
      "source": [
        "## 2) 수강신청 중복과목 없애기\n",
        "### 문제 : 중복 과목을 없애는 프로그램을 작성하기\n",
        "### 조건\n",
        "- 신청 과목은 리스트로 관리된다.\n",
        "- 리스트에 과목 2번 이상 포함되면 1개만 남기고 나머지 삭제한다.\n",
        "- 출력시 신청과목 순서 변경해도 된다.\n",
        "\n",
        "###힌트\n",
        "- 자료구조는 서로 변환할 수 있다.\n",
        "- 세트는 중복을 허용하지 않는다.\n",
        "- 세트는 데이터 순거 보장하지 않아 실행할때마다 순서달라질 수 있다.\n",
        "\n",
        "###실행결과\n",
        "- 신청한 과목은 다음과 같습니다.\n",
        "- ['0', '0', '0']"
      ],
      "metadata": {
        "id": "UwrDA0ASXlbi"
      }
    },
    {
      "cell_type": "code",
      "source": [],
      "metadata": {
        "id": "90nNhrL2Jwmw"
      },
      "execution_count": null,
      "outputs": []
    }
  ]
}