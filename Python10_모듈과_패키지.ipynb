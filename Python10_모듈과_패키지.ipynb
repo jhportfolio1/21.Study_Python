{
  "nbformat": 4,
  "nbformat_minor": 0,
  "metadata": {
    "colab": {
      "provenance": [],
      "authorship_tag": "ABX9TyM2n/3x1r2ZVRbxLE9pxsrX",
      "include_colab_link": true
    },
    "kernelspec": {
      "name": "python3",
      "display_name": "Python 3"
    },
    "language_info": {
      "name": "python"
    }
  },
  "cells": [
    {
      "cell_type": "markdown",
      "metadata": {
        "id": "view-in-github",
        "colab_type": "text"
      },
      "source": [
        "<a href=\"https://colab.research.google.com/github/jhportfolio1/SelfStudy-Python/blob/main/Python10_%EB%AA%A8%EB%93%88%EA%B3%BC_%ED%8C%A8%ED%82%A4%EC%A7%80.ipynb\" target=\"_parent\"><img src=\"https://colab.research.google.com/assets/colab-badge.svg\" alt=\"Open In Colab\"/></a>"
      ]
    },
    {
      "cell_type": "markdown",
      "source": [
        "# 1. 모듈 다루기"
      ],
      "metadata": {
        "id": "wGTxeCCqX7c4"
      }
    },
    {
      "cell_type": "markdown",
      "source": [
        "## 1) 모듈 만들기"
      ],
      "metadata": {
        "id": "JHt_S26LX7ox"
      }
    },
    {
      "cell_type": "markdown",
      "source": [
        "- theater 모듈 만들기"
      ],
      "metadata": {
        "id": "RrItoAYibeXO"
      }
    },
    {
      "cell_type": "code",
      "source": [
        "#일반가격\n",
        "def price(people):\n",
        "  print(\"{0}명, 영화표 가격은 {1}원입니다.\".format(people, people*10000))\n",
        "\n",
        "#조조가격\n",
        "def price_morning(people):\n",
        "  print(\"{0}명, 영화표 가격은 {1}원입니다.\".format(people, people*6000))\n",
        "\n",
        "#군인할인가격\n",
        "def price_soldier(people):\n",
        "  print(\"{0}명, 영화표 가격은 {1}원입니다.\".format(people, people*4000))"
      ],
      "metadata": {
        "id": "IfaVSXtnbkM3"
      },
      "execution_count": null,
      "outputs": []
    },
    {
      "cell_type": "markdown",
      "source": [
        "## 2) 모듈 사용하기"
      ],
      "metadata": {
        "id": "2SUgQAU3X7up"
      }
    },
    {
      "cell_type": "markdown",
      "source": [
        "- import로 만든 모델 가져와서 사용하기"
      ],
      "metadata": {
        "id": "FEZ5vDfBcEam"
      }
    },
    {
      "cell_type": "code",
      "source": [
        "import theater_module as mv \n",
        "\n",
        "mv.price(3)\n",
        "mv.price_morning(5)\n",
        "mv.price_soldier(4)"
      ],
      "metadata": {
        "id": "imyo7mU1ckT4"
      },
      "execution_count": null,
      "outputs": []
    },
    {
      "cell_type": "markdown",
      "source": [
        "- from theater_module import * 로 대체 가능"
      ],
      "metadata": {
        "id": "0pG7G-_FcwP1"
      }
    },
    {
      "cell_type": "markdown",
      "source": [
        "# 2. 패키지 다루기"
      ],
      "metadata": {
        "id": "ZhIB_w1-X702"
      }
    },
    {
      "cell_type": "markdown",
      "source": [
        "## 1) 패키지 만들기"
      ],
      "metadata": {
        "id": "S2WhQb4pX75N"
      }
    },
    {
      "cell_type": "markdown",
      "source": [
        "- 모듈을 모아둔 단위 : 패키지"
      ],
      "metadata": {
        "id": "Hugxsxdrc3NA"
      }
    },
    {
      "cell_type": "markdown",
      "source": [
        "- 패키지 폴더를 만들고, 안에 각각의 모듈 파일과 __init__.py 파일을 추가"
      ],
      "metadata": {
        "id": "ZvnqZ-_HdUuc"
      }
    },
    {
      "cell_type": "markdown",
      "source": [
        "## 2) 패키지 사용하기"
      ],
      "metadata": {
        "id": "r7XwVjV_X796"
      }
    },
    {
      "cell_type": "markdown",
      "source": [
        "- import 패키지명.모듈명\n"
      ],
      "metadata": {
        "id": "5oXcCTHHdc0n"
      }
    },
    {
      "cell_type": "code",
      "source": [
        "import travel.thailand \n",
        "\n",
        "trip_to = travel.thailand.ThailandPackage()\n",
        "trip_to.detail()"
      ],
      "metadata": {
        "id": "Gr7RLc2HdlJm"
      },
      "execution_count": null,
      "outputs": []
    },
    {
      "cell_type": "markdown",
      "source": [
        "# 3. 모듈 공개 설정하기"
      ],
      "metadata": {
        "id": "pi6M4iE7X8Cb"
      }
    },
    {
      "cell_type": "markdown",
      "source": [
        "- \\_\\_all\\_\\_ = [\"모듈명\"]"
      ],
      "metadata": {
        "id": "rGHgsLpEdtLN"
      }
    },
    {
      "cell_type": "markdown",
      "source": [
        "# 4. 모듈 직접 실행하기"
      ],
      "metadata": {
        "id": "2mcT6fNGX8HW"
      }
    },
    {
      "cell_type": "markdown",
      "source": [
        "= if \\_\\_name\\_\\_ == \"\\_\\_main\\_\\_\":\n",
        "> pass  \\"
      ],
      "metadata": {
        "id": "dm2D2gpoeC8w"
      }
    },
    {
      "cell_type": "markdown",
      "source": [
        "else : \\\n",
        "> pass "
      ],
      "metadata": {
        "id": "KD1KINpfedLj"
      }
    },
    {
      "cell_type": "markdown",
      "source": [
        "# 5. 패키지와 모듈 위치 확인하기"
      ],
      "metadata": {
        "id": "x_H05EbrX8MF"
      }
    },
    {
      "cell_type": "markdown",
      "source": [
        "print(inspect.getfile(random))"
      ],
      "metadata": {
        "id": "Kol6dVE_eoVL"
      }
    },
    {
      "cell_type": "markdown",
      "source": [
        "# 6. 패키지 설치하기"
      ],
      "metadata": {
        "id": "mMKYp063X8Rl"
      }
    },
    {
      "cell_type": "markdown",
      "source": [
        "- pypi.org"
      ],
      "metadata": {
        "id": "RxFXlZAOe7D1"
      }
    },
    {
      "cell_type": "markdown",
      "source": [
        "- pip install 패키지명 : 패키지 설치\n",
        "- pip install --upgrade 패키지명 : 패키지 업그레이드\n",
        "- pip uninstall 패키지명 : 패키지 삭제\n",
        "- pip list : 설치 패키지 목록\n",
        "- pip show : 패키지 상세 정보"
      ],
      "metadata": {
        "id": "JmhogXxwe-zt"
      }
    },
    {
      "cell_type": "markdown",
      "source": [
        "# 7. 내장 함수 사용하기"
      ],
      "metadata": {
        "id": "4T-2LCX3X8Xh"
      }
    },
    {
      "cell_type": "markdown",
      "source": [
        "- 파이썬에 기본적으로 들어있는 함수\n",
        "- print(dir())로 확인가능"
      ],
      "metadata": {
        "id": "OlOXpPTdffsB"
      }
    },
    {
      "cell_type": "markdown",
      "source": [
        "# 8. 외장 함수 사용하기"
      ],
      "metadata": {
        "id": "_bfxsakIX8dZ"
      }
    },
    {
      "cell_type": "markdown",
      "source": [
        "## 1) 폴더 또는 파일 목록 조회 모듈"
      ],
      "metadata": {
        "id": "NtiMzYLoX8jF"
      }
    },
    {
      "cell_type": "markdown",
      "source": [
        "- glob : 어떤 경로에 있는 폴더, 파일 목록 조회할 때 사용"
      ],
      "metadata": {
        "id": "8bo3BEHrfoVa"
      }
    },
    {
      "cell_type": "code",
      "source": [
        "import glob\n",
        "\n",
        "print(glob.glob(\"*py\"))"
      ],
      "metadata": {
        "colab": {
          "base_uri": "https://localhost:8080/"
        },
        "id": "clng6FqLf6dG",
        "outputId": "c9338b74-e0cc-432b-8e91-422bf42f1dd4"
      },
      "execution_count": 2,
      "outputs": [
        {
          "output_type": "stream",
          "name": "stdout",
          "text": [
            "[]\n"
          ]
        }
      ]
    },
    {
      "cell_type": "markdown",
      "source": [
        "## 2) 운영체제의 기본 기능 모듈"
      ],
      "metadata": {
        "id": "Yw7UmOixX8n7"
      }
    },
    {
      "cell_type": "markdown",
      "source": [
        "-폴더 만들기 "
      ],
      "metadata": {
        "id": "8hnOJ6vkf_DY"
      }
    },
    {
      "cell_type": "code",
      "source": [
        "import os \n",
        "\n",
        "folders = \"sample_dir\"\n",
        "\n",
        "if os.path.exists(folder):\n",
        "  print(\"이미 존재하는 파일입니다.\")\n",
        "\n",
        "else:\n",
        "  os.makedirs(folders)\n",
        "  print(folder, \"폴더를 생성했습니다.\")"
      ],
      "metadata": {
        "id": "zecxFgGBgdyj"
      },
      "execution_count": null,
      "outputs": []
    },
    {
      "cell_type": "markdown",
      "source": [
        "## 3) 시간 관련 모듈"
      ],
      "metadata": {
        "id": "XQRnYTB_X8sS"
      }
    },
    {
      "cell_type": "markdown",
      "source": [
        "- %Y : 연\n",
        "- %m : 월\n",
        "- %d : 일\n",
        "- %H : 시  \n",
        "- %M : 분  \n",
        "- %S : 초  "
      ],
      "metadata": {
        "id": "nmh2NnWAgfWv"
      }
    },
    {
      "cell_type": "code",
      "source": [
        "import time\n",
        "\n",
        "print(time.strftime(\"%Y-%m-%d %H:%M:%S\"))"
      ],
      "metadata": {
        "colab": {
          "base_uri": "https://localhost:8080/"
        },
        "id": "HRP-ihtygxx8",
        "outputId": "a40cdf7e-00c3-407e-a327-e0aaf8423e71"
      },
      "execution_count": 5,
      "outputs": [
        {
          "output_type": "stream",
          "name": "stdout",
          "text": [
            "2023-04-21 15:51:40\n"
          ]
        }
      ]
    },
    {
      "cell_type": "code",
      "source": [
        "import datetime\n",
        "\n",
        "print(\"오늘 날짜는\", datetime.date.today())"
      ],
      "metadata": {
        "colab": {
          "base_uri": "https://localhost:8080/"
        },
        "id": "5VjI616Fg_D6",
        "outputId": "5ac26c16-3e6e-4d30-a365-3de945ef6c38"
      },
      "execution_count": 6,
      "outputs": [
        {
          "output_type": "stream",
          "name": "stdout",
          "text": [
            "오늘 날짜는 2023-04-21\n"
          ]
        }
      ]
    },
    {
      "cell_type": "markdown",
      "source": [
        "# 9. 연습문제"
      ],
      "metadata": {
        "id": "DbFceQl1X8xU"
      }
    },
    {
      "cell_type": "markdown",
      "source": [
        "## 1) 나만의 모듈 만들기\n",
        "\n",
        "### 조건\n",
        "- 모듈 파일명은 byme.py로 짓는다.\n",
        "\n",
        "### 실행결과\n",
        "- import byme\n",
        "- byme.sign()\n",
        "- 이 프로그램은 나도 나도코딩이 만들었습니다."
      ],
      "metadata": {
        "id": "IutIN2LQhFDE"
      }
    },
    {
      "cell_type": "markdown",
      "source": [
        "## 2) 인사말 출력 모듈\n",
        "\n",
        "### 조건\n",
        "- 모듈 파일명 : greeting.py\n",
        "- 모듈에는 2가지 함수를 구현한다\n",
        "- say_hello(to) : 만났을때 하는 인사말을 출력한다. / 전달값이 '파이썬'일때, 안녕, 파이썬?\n",
        "- say_goodbye(to) : 전달값이 '파이썬'일때, 또 만나 파이썬!\n"
      ],
      "metadata": {
        "id": "q62KaQUwhUlZ"
      }
    },
    {
      "cell_type": "code",
      "source": [],
      "metadata": {
        "id": "mc6D4yvYYbJO"
      },
      "execution_count": null,
      "outputs": []
    }
  ]
}