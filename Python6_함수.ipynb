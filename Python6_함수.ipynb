{
  "nbformat": 4,
  "nbformat_minor": 0,
  "metadata": {
    "colab": {
      "provenance": [],
      "authorship_tag": "ABX9TyNUaSCaTqIwdCFlun90xF6V",
      "include_colab_link": true
    },
    "kernelspec": {
      "name": "python3",
      "display_name": "Python 3"
    },
    "language_info": {
      "name": "python"
    }
  },
  "cells": [
    {
      "cell_type": "markdown",
      "metadata": {
        "id": "view-in-github",
        "colab_type": "text"
      },
      "source": [
        "<a href=\"https://colab.research.google.com/github/jhportfolio1/SelfStudy-Python/blob/main/Python6_%ED%95%A8%EC%88%98.ipynb\" target=\"_parent\"><img src=\"https://colab.research.google.com/assets/colab-badge.svg\" alt=\"Open In Colab\"/></a>"
      ]
    },
    {
      "cell_type": "markdown",
      "source": [
        "#1. 함수 정의하기"
      ],
      "metadata": {
        "id": "SJxx0s_6LnkQ"
      }
    },
    {
      "cell_type": "markdown",
      "source": [
        "- def 함수명():\n",
        "> 실행할 문장"
      ],
      "metadata": {
        "id": "RkStRvDorga9"
      }
    },
    {
      "cell_type": "markdown",
      "source": [
        "## 1) 실습"
      ],
      "metadata": {
        "id": "_lDnwKCKLoAm"
      }
    },
    {
      "cell_type": "markdown",
      "source": [
        "### 은행계좌 개설하기"
      ],
      "metadata": {
        "id": "wxYSIWFHrk7S"
      }
    },
    {
      "cell_type": "code",
      "source": [
        "def open_account():\n",
        "  print(\"새로운 계좌를 개설합니다.\")"
      ],
      "metadata": {
        "id": "HRk73FGFrpKb"
      },
      "execution_count": 1,
      "outputs": []
    },
    {
      "cell_type": "markdown",
      "source": [
        "# 2. 전달값과 반환값"
      ],
      "metadata": {
        "id": "-ChJoeL5LosB"
      }
    },
    {
      "cell_type": "markdown",
      "source": [
        "- def 함수명 (전달값, 전달값2, ... )\n",
        "> 실행할 문장 1\n",
        "\n",
        ">>return 반환값"
      ],
      "metadata": {
        "id": "-P5q3BSvsUv3"
      }
    },
    {
      "cell_type": "markdown",
      "source": [
        "## 1) 실습 : 입금하기"
      ],
      "metadata": {
        "id": "OYIRuaaxLoxL"
      }
    },
    {
      "cell_type": "code",
      "source": [
        "def open_account():\n",
        "  print(\"새로운 계좌를 개설합니다.\")\n",
        "\n",
        "open_account() \n",
        "\n",
        "def deposit(balance, money):  #입금처리 함수\n",
        "  print(\"{0}원을 입금했습니다. 잔액은 {1}원입니다.\".format(moeny, balance+money))\n",
        "  return balance + money"
      ],
      "metadata": {
        "colab": {
          "base_uri": "https://localhost:8080/"
        },
        "id": "_yeFRzWSsqR8",
        "outputId": "b971caae-c15a-4f48-de2d-43bdc5b1cbf9"
      },
      "execution_count": 2,
      "outputs": [
        {
          "output_type": "stream",
          "name": "stdout",
          "text": [
            "새로운 계좌를 개설합니다.\n"
          ]
        }
      ]
    },
    {
      "cell_type": "markdown",
      "source": [
        "## 2) 실습 : 출금하기"
      ],
      "metadata": {
        "id": "BxyB2BmwLo1B"
      }
    },
    {
      "cell_type": "code",
      "source": [
        "def open_account() : \n",
        "  print(\"새로운 계좌를 개설합니다.\")\n",
        "\n",
        "open_account()\n",
        "\n",
        "def deposit(balance, money):\n",
        "  print(\"{0}원을 입금했습니다. 잔액은 {1}원 입니다.\".format(money, balance+money))\n",
        "  return balance+money\n",
        "\n",
        "def withdraw(balance, money):\n",
        "  if balance >= money :\n",
        "    print(\"{0}원을 출금했습니다. 잔액은 {1}원 입니다.\".format(money, balance-money))\n",
        "    return balance - money\n",
        "  else:\n",
        "    print(\"잔액이 부족합니다. 잔액은 {0}원입니다.\".format(balance))\n",
        "    return balance \n",
        "\n",
        "balance = 0\n",
        "balance = deposit(balance, 1000)\n",
        "\n",
        "balance = withdraw(balance, 2000)\n",
        "balance = withdraw(balance, 500)"
      ],
      "metadata": {
        "colab": {
          "base_uri": "https://localhost:8080/"
        },
        "id": "w3gIvUKOtGvu",
        "outputId": "b32af1bb-50f8-4e23-edf8-29a7c59ca915"
      },
      "execution_count": 4,
      "outputs": [
        {
          "output_type": "stream",
          "name": "stdout",
          "text": [
            "새로운 계좌를 개설합니다.\n",
            "1000원을 입금했습니다. 잔액은 1000원 입니다.\n",
            "잔액이 부족합니다. 잔액은 1000원입니다.\n",
            "500원을 출금했습니다. 잔액은 500원 입니다.\n"
          ]
        }
      ]
    },
    {
      "cell_type": "markdown",
      "source": [
        "## 3) 실습 : 수수료 부과하기"
      ],
      "metadata": {
        "id": "U2ly92OULo5Q"
      }
    },
    {
      "cell_type": "code",
      "source": [
        "def open_account() : \n",
        "  print(\"새로운 계좌를 개설합니다.\")\n",
        "\n",
        "open_account()\n",
        "\n",
        "def deposit(balance, money):\n",
        "  print(\"{0}원을 입금했습니다. 잔액은 {1}원 입니다.\".format(money, balance+money))\n",
        "  return balance+money\n",
        "\n",
        "def withdraw_night(balance, money):\n",
        "  commission = 100\n",
        "  print(\"업무 시간 외에 {}원을 출금했습니다.\".format(money))\n",
        "  return commission, balance-money-commission\n",
        "\n",
        "balance = 0\n",
        "balance = deposit(balance, 1000)\n",
        "\n",
        "commission, balance = withdraw_night(balance, 500)\n",
        "print(\"수수료는 {0}원이며, 잔액은 {1}원입니다.\".format(commission, balance))"
      ],
      "metadata": {
        "colab": {
          "base_uri": "https://localhost:8080/"
        },
        "id": "vIDt5cJuuMSR",
        "outputId": "648811d7-1a12-4615-b78f-b6b783795bb9"
      },
      "execution_count": 7,
      "outputs": [
        {
          "output_type": "stream",
          "name": "stdout",
          "text": [
            "새로운 계좌를 개설합니다.\n",
            "1000원을 입금했습니다. 잔액은 1000원 입니다.\n",
            "업무 시간 외에 500원을 출금했습니다.\n",
            "수수료는 100원이며, 잔액은 400원입니다.\n"
          ]
        }
      ]
    },
    {
      "cell_type": "markdown",
      "source": [
        "# 3. 함수 호출하기"
      ],
      "metadata": {
        "id": "8nfQUbhuLo-Q"
      }
    },
    {
      "cell_type": "markdown",
      "source": [
        "## 1) 기본값 사용하기"
      ],
      "metadata": {
        "id": "_cj-7sQkLpB8"
      }
    },
    {
      "cell_type": "markdown",
      "source": [
        "- 미리 지정한 값으로 출력되게 함 \\"
      ],
      "metadata": {
        "id": "_iXOBEKWuzcF"
      }
    },
    {
      "cell_type": "code",
      "source": [
        "def profile(name, age=20, main_lang=\"파이썬\"):\n",
        "  print(\"이름 : {0}\\t나이 : {1} \\t 주 사용언어 : {2}\".format(name, age, main_lang))\n",
        "\n",
        "profile(\"찰리\")\n",
        "profile(\"루시\")"
      ],
      "metadata": {
        "colab": {
          "base_uri": "https://localhost:8080/"
        },
        "id": "V0rnEWWivAaI",
        "outputId": "28a2f82d-ece3-49c3-f84a-876c87ccc4f3"
      },
      "execution_count": 8,
      "outputs": [
        {
          "output_type": "stream",
          "name": "stdout",
          "text": [
            "이름 : 찰리\t나이 : 20 \t 주 사용언어 : 파이썬\n",
            "이름 : 루시\t나이 : 20 \t 주 사용언어 : 파이썬\n"
          ]
        }
      ]
    },
    {
      "cell_type": "markdown",
      "source": [
        "## 2) 키워드 인자 사용하기"
      ],
      "metadata": {
        "id": "UBmdNn1ZLpFN"
      }
    },
    {
      "cell_type": "markdown",
      "source": [
        "- print(1,2,3) 키워드 순서를 정하면, 호출에서 섞여도 순서대로 정렬된다."
      ],
      "metadata": {
        "id": "0Ue09N9RvrU9"
      }
    },
    {
      "cell_type": "code",
      "source": [
        "def profile(name, age, main_lang):\n",
        "  print(name, age, main_lang)\n",
        "\n",
        "profile(name=\"찰리\", main_lang=\"파이썬\", age=20)\n",
        "profile(main_lang=\"자바\", age=25, name=\"루시\")"
      ],
      "metadata": {
        "colab": {
          "base_uri": "https://localhost:8080/"
        },
        "id": "ykr8MlAOvw7I",
        "outputId": "eb6d8768-976c-46fa-a4c4-bf571f00ea0a"
      },
      "execution_count": 10,
      "outputs": [
        {
          "output_type": "stream",
          "name": "stdout",
          "text": [
            "찰리 20 파이썬\n",
            "루시 25 자바\n"
          ]
        }
      ]
    },
    {
      "cell_type": "markdown",
      "source": [
        "# 4. 변수의 범위 : 지역변수와 전역변수"
      ],
      "metadata": {
        "id": "ireCavpHLpMs"
      }
    },
    {
      "cell_type": "markdown",
      "source": [
        "- 함수 내에서 정의된 변수는 함수 외에서 정의된 변수와 이름이 같아도 별개의 것\n",
        "- 함수 내외 변수 같이 사용하려면, 함수 안의 변수 앞에 global 붙여줘야 함\n",
        "- 함수 내의 변수를 따로 정의하거나, global 사용안하면 오류남"
      ],
      "metadata": {
        "id": "ODMO-o09xaUD"
      }
    },
    {
      "cell_type": "code",
      "source": [
        "glasses = 10\n",
        "\n",
        "def rent(people):\n",
        "  glasses = 20\n",
        "  glasses = glasses-people\n",
        "  print(\"[함수 내부] 남은 안경 개수 ; {0}\".format(glasses))\n",
        "\n",
        "print(\"전체 3D 안경갯수 : {0}\".format(glasses))\n",
        "rent(2)\n",
        "print(\"남은 3D 안경갯수 : {0}\".format(glasses))"
      ],
      "metadata": {
        "colab": {
          "base_uri": "https://localhost:8080/"
        },
        "id": "FYKDYFivxfzN",
        "outputId": "b8b3e025-64e0-456a-9b0a-b124115b1234"
      },
      "execution_count": 13,
      "outputs": [
        {
          "output_type": "stream",
          "name": "stdout",
          "text": [
            "전체 3D 안경갯수 : 10\n",
            "[함수 내부] 남은 안경 개수 ; 18\n",
            "남은 3D 안경갯수 : 10\n"
          ]
        }
      ]
    },
    {
      "cell_type": "code",
      "source": [
        "glasses = 10\n",
        "\n",
        "def rent(people):\n",
        "  global glasses\n",
        "  glasses = glasses-people\n",
        "  print(\"[함수 내부] 남은 안경 개수 ; {0}\".format(glasses))\n",
        "\n",
        "print(\"전체 3D 안경갯수 : {0}\".format(glasses))\n",
        "rent(2)\n",
        "print(\"남은 3D 안경갯수 : {0}\".format(glasses))"
      ],
      "metadata": {
        "colab": {
          "base_uri": "https://localhost:8080/"
        },
        "id": "mjblrrUCyQQt",
        "outputId": "6c812edc-2239-4c76-e4c4-6611abf232fa"
      },
      "execution_count": 15,
      "outputs": [
        {
          "output_type": "stream",
          "name": "stdout",
          "text": [
            "전체 3D 안경갯수 : 10\n",
            "[함수 내부] 남은 안경 개수 ; 8\n",
            "남은 3D 안경갯수 : 8\n"
          ]
        }
      ]
    },
    {
      "cell_type": "markdown",
      "source": [
        "# 5. 연습 문제"
      ],
      "metadata": {
        "id": "6wfH6N2ALpUo"
      }
    },
    {
      "cell_type": "markdown",
      "source": [
        "## 1) 표준 체중 구하기\n",
        "### 문제\n",
        "- 표준 체중을 구하는 프로그램을 작성하세요.\n",
        "\n",
        "###조건\n",
        "- 표준 체중은 별도 함수로 계산한다. 키는 미터(m) 단위로 받는다.\n",
        "- 함수명 : std_weight\n",
        "- 전달값 : 키(height), 성별(gender)\n",
        "- 실행결과에서 표준 체중은 소수점 이하 둘째자리까지 표시한다.\n",
        "\n",
        "###실행결과\n",
        "- 키 000cm 여자의 표준체중은 00.00kg입니다."
      ],
      "metadata": {
        "id": "mUh6zLulytvY"
      }
    },
    {
      "cell_type": "markdown",
      "source": [
        "## 2) 미세먼지 대기질 상태 출력 함수\n",
        "### 문제\n",
        "- 미세 먼지 수치를 입력받아 대기질 상태 출력하는 함수 만들기\n",
        "\n",
        "###조건\n",
        "- get_air_quality라는 이름으로 함수 만든다.\n",
        "- 함수는 전달값으로 미세먼지 수치를 입력받는다.\n",
        "- 함수는 대기질 상태를 반환한다.\n",
        "- 미세먼지 수치에 따른 대기질 상태는 다음과 같다.\n",
        "> 좋음(0~30), 보통(31~80), 나쁨(81~150), 매우나쁨(151이상)\n",
        "- 함수에 전달되는 값은 0이상의 값이라고 가정한다.\n",
        "\n",
        "###실행결과\n",
        "- #미세먼지 수치가 15일때\n",
        "- 좋음"
      ],
      "metadata": {
        "id": "cxCvY5pjzFYw"
      }
    },
    {
      "cell_type": "code",
      "source": [],
      "metadata": {
        "id": "vIhB3V_XzIvL"
      },
      "execution_count": null,
      "outputs": []
    }
  ]
}