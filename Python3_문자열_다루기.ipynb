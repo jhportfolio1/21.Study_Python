{
  "nbformat": 4,
  "nbformat_minor": 0,
  "metadata": {
    "colab": {
      "provenance": [],
      "authorship_tag": "ABX9TyNigSsnN2gTPvAgyypsuo6i",
      "include_colab_link": true
    },
    "kernelspec": {
      "name": "python3",
      "display_name": "Python 3"
    },
    "language_info": {
      "name": "python"
    }
  },
  "cells": [
    {
      "cell_type": "markdown",
      "metadata": {
        "id": "view-in-github",
        "colab_type": "text"
      },
      "source": [
        "<a href=\"https://colab.research.google.com/github/jhportfolio1/SelfStudy-Python/blob/main/Python3_%EB%AC%B8%EC%9E%90%EC%97%B4_%EB%8B%A4%EB%A3%A8%EA%B8%B0.ipynb\" target=\"_parent\"><img src=\"https://colab.research.google.com/assets/colab-badge.svg\" alt=\"Open In Colab\"/></a>"
      ]
    },
    {
      "cell_type": "markdown",
      "source": [
        "# 1. 문자열이란"
      ],
      "metadata": {
        "id": "jSRxjhHv_7Dg"
      }
    },
    {
      "cell_type": "markdown",
      "source": [
        "- '', \"\" 로 표시한 모든 글자는 문자열로 표시됨"
      ],
      "metadata": {
        "id": "ai667PxmA1D9"
      }
    },
    {
      "cell_type": "markdown",
      "source": [
        "# 2. 슬라이싱 : 원하는 만큼 문자열 자르기"
      ],
      "metadata": {
        "id": "Ti92MULdADPI"
      }
    },
    {
      "cell_type": "markdown",
      "source": [
        "- index란     : n번째 문자 = n번째 인덱스 / 첫째자리는 0번째 자리임\n",
        "- index[a, b] : a부터 b직전까지\n",
        "- index[a:]   : a부터 끝까지\n",
        "- index[:b]   : 처음부터 b직전까지\n",
        "- index[:]    : 전체"
      ],
      "metadata": {
        "id": "Tk076hNyA6pd"
      }
    },
    {
      "cell_type": "markdown",
      "source": [
        "# 3. 함수로 문자열 처리하기"
      ],
      "metadata": {
        "id": "GNT1MlDAADf8"
      }
    },
    {
      "cell_type": "markdown",
      "source": [
        "- lower()   : 소문자로 변환\n",
        "- upper()   : 대문자로 변환\n",
        "- islower() : 소문자인지 확인\n",
        "- isupper() : 대문자인지 확인\n",
        "- replace() : 문자열 바꾸기\n",
        "- index()   : 찾는 문자열 인덱스 (없으면 오류 발생)\n",
        "- find()    : 찾는 문자열 인덱스 (없으면 -1 반환)\n",
        "- count()   : 문자열이 나온 횟수"
      ],
      "metadata": {
        "id": "GltOF0_cBm07"
      }
    },
    {
      "cell_type": "code",
      "source": [
        "python = \"Python is Amazing\"\n",
        "\n",
        "print(python.lower())\n",
        "print(python.upper())\n",
        "print(python[0].isupper())\n",
        "print(python[1:3].islower())\n",
        "print(python.replace(\"Python\", \"java\"))"
      ],
      "metadata": {
        "colab": {
          "base_uri": "https://localhost:8080/"
        },
        "id": "boZPSYZPCSQ1",
        "outputId": "3257cd1a-7074-4e17-8ced-f5d1f0bd1ffb"
      },
      "execution_count": 2,
      "outputs": [
        {
          "output_type": "stream",
          "name": "stdout",
          "text": [
            "python is amazing\n",
            "PYTHON IS AMAZING\n",
            "True\n",
            "True\n",
            "java is Amazing\n"
          ]
        }
      ]
    },
    {
      "cell_type": "markdown",
      "source": [
        "# 4. 문자열 포매팅"
      ],
      "metadata": {
        "id": "qGi2X14VADos"
      }
    },
    {
      "cell_type": "markdown",
      "source": [
        "- 형변환 없이 변수를 문자형태로 나타낼 수 있는 방법"
      ],
      "metadata": {
        "id": "OsTXyPBlEK4f"
      }
    },
    {
      "cell_type": "markdown",
      "source": [
        "## 1) 서식 시정자 사용하기"
      ],
      "metadata": {
        "id": "F-CxWMDJADvW"
      }
    },
    {
      "cell_type": "markdown",
      "source": [
        "- %d : 정수\n",
        "- %f : 실수\n",
        "- %c : 문자\n",
        "- %s : 문자열, 정수값 모두 표현 가능"
      ],
      "metadata": {
        "id": "XoezsPLdEVh5"
      }
    },
    {
      "cell_type": "code",
      "source": [
        "print(\"나는 %d 살 입니다.\" % 20)\n",
        "print(\"나는 %s 를 좋아해요.\" % \"파이썬\")\n",
        "print(\"Apple은 %c로 시작해요.\" % \"A\")\n",
        "print(\"나는 %s 살 입니다.\" % 20)  "
      ],
      "metadata": {
        "colab": {
          "base_uri": "https://localhost:8080/"
        },
        "id": "tyze4DLiEg7W",
        "outputId": "b509b2a2-9ee1-48c1-92c9-9c19ff782523"
      },
      "execution_count": 6,
      "outputs": [
        {
          "output_type": "stream",
          "name": "stdout",
          "text": [
            "나는 20 살 입니다.\n",
            "나는 파이썬 를 좋아해요.\n",
            "Apple은 A로 시작해요.\n",
            "나는 20 살 입니다.\n"
          ]
        }
      ]
    },
    {
      "cell_type": "markdown",
      "source": [
        "## 2) format()함수 사용하기"
      ],
      "metadata": {
        "id": "lyc6XzJVAD0U"
      }
    },
    {
      "cell_type": "code",
      "source": [
        "print(\"나는 {0}과 {1}을 좋아해요.\".format(\"사과\",\"바나나\"))\n",
        "print(\"나는 {age}살 이고, {color}색을 좋아해요.\".format(age=30, color=\"빨간\"))"
      ],
      "metadata": {
        "colab": {
          "base_uri": "https://localhost:8080/"
        },
        "id": "yfSqLK2HFlAt",
        "outputId": "8aa54476-9b77-4a39-a199-056cb9030af1"
      },
      "execution_count": 10,
      "outputs": [
        {
          "output_type": "stream",
          "name": "stdout",
          "text": [
            "나는 사과과 바나나을 좋아해요.\n",
            "나는 30살 이고, 빨간색을 좋아해요.\n"
          ]
        }
      ]
    },
    {
      "cell_type": "markdown",
      "source": [
        "## 3) f-문자열 사용하기"
      ],
      "metadata": {
        "id": "zwS-tLsQAD3F"
      }
    },
    {
      "cell_type": "code",
      "source": [
        "age = 20\n",
        "color = \"핑크\"\n",
        "print(f\"나는 {age}살이고, {color}색을 좋아해요.\")"
      ],
      "metadata": {
        "colab": {
          "base_uri": "https://localhost:8080/"
        },
        "id": "-O9Dthm5F3K2",
        "outputId": "99c9d6ab-0ffa-4673-83e2-44c35d8dcfc0"
      },
      "execution_count": 12,
      "outputs": [
        {
          "output_type": "stream",
          "name": "stdout",
          "text": [
            "나는 20살이고, 핑크색을 좋아해요.\n"
          ]
        }
      ]
    },
    {
      "cell_type": "markdown",
      "source": [
        "# 5. 탈출문자"
      ],
      "metadata": {
        "id": "9B-4EgykAD6S"
      }
    },
    {
      "cell_type": "markdown",
      "source": [
        "## 1) \\n \n",
        "- 줄 바꿈"
      ],
      "metadata": {
        "id": "7o41BXx6AVnM"
      }
    },
    {
      "cell_type": "code",
      "source": [
        "print(\"미녀는 석류를 좋아해\\n미녀는 석류를 좋아해\")"
      ],
      "metadata": {
        "colab": {
          "base_uri": "https://localhost:8080/"
        },
        "id": "bto_rvuJGMkM",
        "outputId": "b7883be0-44ce-48da-f350-5b635bc60081"
      },
      "execution_count": 13,
      "outputs": [
        {
          "output_type": "stream",
          "name": "stdout",
          "text": [
            "미녀는 석류를 좋아해\n",
            "미녀는 석류를 좋아해\n"
          ]
        }
      ]
    },
    {
      "cell_type": "markdown",
      "source": [
        "## 2) \\\\\"와 \\\\'"
      ],
      "metadata": {
        "id": "gUPVUT7wAYpf"
      }
    },
    {
      "cell_type": "markdown",
      "source": [
        "- 문자열 안에서 '', \"\" 작성으로 강조하기"
      ],
      "metadata": {
        "id": "gF2cRd-NGUFP"
      }
    },
    {
      "cell_type": "code",
      "source": [
        "print(\"\\'미녀\\'는 석류를 좋아해\")\n",
        "print(\"\\\"미녀\\\"는 석류를 좋아해\")"
      ],
      "metadata": {
        "colab": {
          "base_uri": "https://localhost:8080/"
        },
        "id": "qGH4Zif6GbkB",
        "outputId": "44916b00-f90a-4fc6-d581-bf8d20b7bc5b"
      },
      "execution_count": 14,
      "outputs": [
        {
          "output_type": "stream",
          "name": "stdout",
          "text": [
            "'미녀'는 석류를 좋아해\n",
            "\"미녀\"는 석류를 좋아해\n"
          ]
        }
      ]
    },
    {
      "cell_type": "markdown",
      "source": [
        "## 3) \\\\\\"
      ],
      "metadata": {
        "id": "6dmb2g2OAYsW"
      }
    },
    {
      "cell_type": "markdown",
      "source": [
        "- 파일 전체 경로 표시할 때"
      ],
      "metadata": {
        "id": "3gueQpQoGsxc"
      }
    },
    {
      "cell_type": "code",
      "source": [
        "print(\"C:\\\\Users\\\\jhmz1\\\\Downloads\")"
      ],
      "metadata": {
        "colab": {
          "base_uri": "https://localhost:8080/"
        },
        "id": "mBm4rRdeG21S",
        "outputId": "187a812d-5de4-480f-f987-37dc8896b15c"
      },
      "execution_count": 17,
      "outputs": [
        {
          "output_type": "stream",
          "name": "stdout",
          "text": [
            "C:\\Users\\jhmz1\\Downloads\n"
          ]
        }
      ]
    },
    {
      "cell_type": "markdown",
      "source": [
        "## 4) \\\\r"
      ],
      "metadata": {
        "id": "I6s-9RwsAYvd"
      }
    },
    {
      "cell_type": "markdown",
      "source": [
        "- 앞의 단어에 덮어쓰기"
      ],
      "metadata": {
        "id": "TlTNrvNlHTPR"
      }
    },
    {
      "cell_type": "code",
      "source": [
        "print(\"우리 나라\\r만세\")"
      ],
      "metadata": {
        "colab": {
          "base_uri": "https://localhost:8080/"
        },
        "id": "Kh4KqyIcHVfE",
        "outputId": "3f2f33ae-56e3-424b-e455-0e074b098d95"
      },
      "execution_count": 21,
      "outputs": [
        {
          "output_type": "stream",
          "name": "stdout",
          "text": [
            "우리 나라\r만세\n"
          ]
        }
      ]
    },
    {
      "cell_type": "markdown",
      "source": [
        "#5) \\b"
      ],
      "metadata": {
        "id": "fNpuLL_6AYzo"
      }
    },
    {
      "cell_type": "markdown",
      "source": [
        "- 바로 앞글자 삭제"
      ],
      "metadata": {
        "id": "emDOwE91Hi2B"
      }
    },
    {
      "cell_type": "code",
      "source": [
        "print(\"우리 나라\\b만세\")"
      ],
      "metadata": {
        "colab": {
          "base_uri": "https://localhost:8080/"
        },
        "id": "XeEA1DuZHlNZ",
        "outputId": "fd6a833a-f039-45b5-91b0-1c950f6490af"
      },
      "execution_count": 22,
      "outputs": [
        {
          "output_type": "stream",
          "name": "stdout",
          "text": [
            "우리 나라\b만세\n"
          ]
        }
      ]
    },
    {
      "cell_type": "markdown",
      "source": [
        "# 6) \\t"
      ],
      "metadata": {
        "id": "_p3ErLH5AokW"
      }
    },
    {
      "cell_type": "markdown",
      "source": [
        "- 8칸 띄우기"
      ],
      "metadata": {
        "id": "n4sYex-XHrF0"
      }
    },
    {
      "cell_type": "code",
      "source": [
        "print(\"우리 나라\\t만세\")"
      ],
      "metadata": {
        "colab": {
          "base_uri": "https://localhost:8080/"
        },
        "id": "QiXpA_xuH1Aa",
        "outputId": "df01d24e-8502-4b0c-d9ed-7f8efba8beb9"
      },
      "execution_count": 23,
      "outputs": [
        {
          "output_type": "stream",
          "name": "stdout",
          "text": [
            "우리 나라\t만세\n"
          ]
        }
      ]
    },
    {
      "cell_type": "markdown",
      "source": [
        "# 6. 실습문제"
      ],
      "metadata": {
        "id": "AAZ5zMeEArT4"
      }
    },
    {
      "cell_type": "markdown",
      "source": [
        "## 1) 비밀번호 만들기 문제\n",
        "### 문제 : 사이트별로 비밀번호 생성 프로그램 만드세요.\n",
        "- http://naver.com\n",
        "- http://daum.net\n",
        "- http://google.com\n",
        "- http://youtube.com\n",
        "### 조건\n",
        "- http:// 부분은 제외한다.\n",
        "- 처음 만나는 점(.) 이후 부분 제외\n",
        "- 남은 글자 중 처음 세자리 + 글자개수 + 글자 내 'e'의 개수 + '!'로 구성\n",
        "- 프로그램 실행시 다음 형태로 나와야 함\n",
        "- http://naver.com의 비밀번호는 nav51!입니다. "
      ],
      "metadata": {
        "id": "fqLolc4GH_Lm"
      }
    },
    {
      "cell_type": "markdown",
      "source": [
        "## 2) 첫번째 글자 대문자로, 나머지 모두 소문자로 변환하는 프로그램 작성\n",
        "### 문장\n",
        "- the early bird catches the worm.\n",
        "- Actions Speak Louder Than Words.\n",
        "- PRACICE MAKES PERFECT."
      ],
      "metadata": {
        "id": "4Vm0hY35Iqlu"
      }
    },
    {
      "cell_type": "code",
      "source": [],
      "metadata": {
        "id": "jl3jrn91ACnp"
      },
      "execution_count": null,
      "outputs": []
    }
  ]
}