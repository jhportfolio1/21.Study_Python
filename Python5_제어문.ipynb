{
  "nbformat": 4,
  "nbformat_minor": 0,
  "metadata": {
    "colab": {
      "provenance": [],
      "authorship_tag": "ABX9TyMIas/e+7nCDIKnsevXeOoT",
      "include_colab_link": true
    },
    "kernelspec": {
      "name": "python3",
      "display_name": "Python 3"
    },
    "language_info": {
      "name": "python"
    }
  },
  "cells": [
    {
      "cell_type": "markdown",
      "metadata": {
        "id": "view-in-github",
        "colab_type": "text"
      },
      "source": [
        "<a href=\"https://colab.research.google.com/github/jhportfolio1/SelfStudy-Python/blob/main/Python5_%EC%A0%9C%EC%96%B4%EB%AC%B8.ipynb\" target=\"_parent\"><img src=\"https://colab.research.google.com/assets/colab-badge.svg\" alt=\"Open In Colab\"/></a>"
      ]
    },
    {
      "cell_type": "markdown",
      "source": [
        "#1. 조건문 : 조건에 따라 분기하기"
      ],
      "metadata": {
        "id": "8ScGK5Q_K3Q2"
      }
    },
    {
      "cell_type": "markdown",
      "source": [
        "## 1) IF문 : 조건이 1개일 때"
      ],
      "metadata": {
        "id": "yR1WSHAbK3S5"
      }
    },
    {
      "cell_type": "markdown",
      "source": [
        "- If 조건 : \n",
        "> 실행할 명령"
      ],
      "metadata": {
        "id": "q_HU2glthkeJ"
      }
    },
    {
      "cell_type": "code",
      "source": [
        "weather = \"비\"\n",
        "\n",
        "if weather == \"비\":\n",
        "  print(\"우산을 챙기세요.\")"
      ],
      "metadata": {
        "colab": {
          "base_uri": "https://localhost:8080/"
        },
        "id": "cwihxMvIh7b1",
        "outputId": "1fd85129-ed4c-46aa-b546-c2fb0966062a"
      },
      "execution_count": 1,
      "outputs": [
        {
          "output_type": "stream",
          "name": "stdout",
          "text": [
            "우산을 챙기세요.\n"
          ]
        }
      ]
    },
    {
      "cell_type": "markdown",
      "source": [
        "## 2) elif문 : 조건이 여러 개 일 때"
      ],
      "metadata": {
        "id": "zPiQ_mmWK3VC"
      }
    },
    {
      "cell_type": "markdown",
      "source": [
        "- If가 아닐 때의 조건에 대해서"
      ],
      "metadata": {
        "id": "JjxHhKgUiMez"
      }
    },
    {
      "cell_type": "code",
      "source": [
        "weather = \"맑음\"\n",
        "\n",
        "if weather === \"비\":\n",
        "  print(\"우산을 챙기세요.\")\n",
        "\n",
        "elif weather == \"미세먼지\":\n",
        "  print(\"마스크를 챙기세요.\")"
      ],
      "metadata": {
        "id": "PmnzgbiiihoT"
      },
      "execution_count": null,
      "outputs": []
    },
    {
      "cell_type": "markdown",
      "source": [
        "## 3) else문 : 모든 조건에 맞지 않을 때"
      ],
      "metadata": {
        "id": "XDwwN-OWK3Xf"
      }
    },
    {
      "cell_type": "markdown",
      "source": [
        "- if도, elif 도 아닌 경우"
      ],
      "metadata": {
        "id": "DB_hOQYyi8tk"
      }
    },
    {
      "cell_type": "code",
      "source": [
        "weather = \"맑음\"\n",
        "\n",
        "if weather === \"비\":\n",
        "  print(\"우산을 챙기세요.\")\n",
        "\n",
        "elif weather == \"미세먼지\":\n",
        "  print(\"마스크를 챙기세요.\")\n",
        "\n",
        "else :\n",
        "  print(\"준비물이 필요 없어요.\")"
      ],
      "metadata": {
        "id": "vqim7hUtjACC"
      },
      "execution_count": null,
      "outputs": []
    },
    {
      "cell_type": "markdown",
      "source": [
        "## 4) input()으로 값 입력받아 비교하기"
      ],
      "metadata": {
        "id": "MA1IUM9wK3ZS"
      }
    },
    {
      "cell_type": "markdown",
      "source": [
        "- 어떤 값을 문자열 형태로 변수에 저장해서, 입력받는 용도"
      ],
      "metadata": {
        "id": "3SVgfjp4jOS_"
      }
    },
    {
      "cell_type": "code",
      "source": [
        "weather = input(\"오늘 날씨는 어때요?\")\n",
        "print(weather)"
      ],
      "metadata": {
        "colab": {
          "base_uri": "https://localhost:8080/"
        },
        "id": "CGu1cu1TjTKn",
        "outputId": "564577b1-c847-4331-f753-2076ceeae94e"
      },
      "execution_count": 2,
      "outputs": [
        {
          "output_type": "stream",
          "name": "stdout",
          "text": [
            "오늘 날씨는 어때요?비\n",
            "비\n"
          ]
        }
      ]
    },
    {
      "cell_type": "markdown",
      "source": [
        "- 이렇게 질문을 남기고 답을 받을 수 있어서, 답에 따른 응답을 if/elif/else로 설정할 수 있다."
      ],
      "metadata": {
        "id": "qrk4JwWxjkE7"
      }
    },
    {
      "cell_type": "markdown",
      "source": [
        "- 답을 숫자로 받고 싶다면"
      ],
      "metadata": {
        "id": "b7QiMWeVjwSa"
      }
    },
    {
      "cell_type": "code",
      "source": [
        "temp = int(input(\"오늘 기온은 어때요?\")\n",
        "\n",
        "if 30 <= temp:  \n",
        "  print(\"오늘 더워요. 외출을 자제하세요.\")\n",
        "\n",
        "elif 10 <= temp < 30:\n",
        "  print(\"활동하기 좋은 날씨에요.\"\n",
        "\n",
        "else:\n",
        "  print(\"너무 추워요. 나가지 마세요.\" "
      ],
      "metadata": {
        "colab": {
          "base_uri": "https://localhost:8080/",
          "height": 138
        },
        "id": "RjAk-uDGkFJV",
        "outputId": "199bb733-97b7-4f02-ccde-556a57453ae4"
      },
      "execution_count": 6,
      "outputs": [
        {
          "output_type": "error",
          "ename": "SyntaxError",
          "evalue": "ignored",
          "traceback": [
            "\u001b[0;36m  File \u001b[0;32m\"<ipython-input-6-39c99777ca22>\"\u001b[0;36m, line \u001b[0;32m3\u001b[0m\n\u001b[0;31m    if 30 <= temp:\u001b[0m\n\u001b[0m                 ^\u001b[0m\n\u001b[0;31mSyntaxError\u001b[0m\u001b[0;31m:\u001b[0m invalid syntax\n"
          ]
        }
      ]
    },
    {
      "cell_type": "markdown",
      "source": [
        "# 2. 반복문 : 같은 일 반복하기"
      ],
      "metadata": {
        "id": "jWGcw-8bK3bj"
      }
    },
    {
      "cell_type": "markdown",
      "source": [
        "## 1) for문 : 범위 안에서 반복하기"
      ],
      "metadata": {
        "id": "jbggUd1iK3dW"
      }
    },
    {
      "cell_type": "markdown",
      "source": [
        "- for 변수 in 반복대상:\n",
        "> 실행할 명령1"
      ],
      "metadata": {
        "id": "YP6eQJZJkyPP"
      }
    },
    {
      "cell_type": "markdown",
      "source": [
        "- for문을 이용해 대기번호 숫자를 반복한다면 다음과 같다."
      ],
      "metadata": {
        "id": "LBbpSQXZlLIr"
      }
    },
    {
      "cell_type": "code",
      "source": [
        "for waiting in [1,2,3,4,5]:\n",
        "  print(\"대기번호 : {0}\".format(waiting))"
      ],
      "metadata": {
        "colab": {
          "base_uri": "https://localhost:8080/"
        },
        "id": "ho5DKjqZk7t3",
        "outputId": "bf3a7a70-f806-4818-9f51-45effe6cee8b"
      },
      "execution_count": 7,
      "outputs": [
        {
          "output_type": "stream",
          "name": "stdout",
          "text": [
            "대기번호 : 1\n",
            "대기번호 : 2\n",
            "대기번호 : 3\n",
            "대기번호 : 4\n",
            "대기번호 : 5\n"
          ]
        }
      ]
    },
    {
      "cell_type": "markdown",
      "source": [
        "- 숫자범위를 range() 함수를 사용해서 정의하면 편하다."
      ],
      "metadata": {
        "id": "KdT79XkNlTyT"
      }
    },
    {
      "cell_type": "code",
      "source": [
        "for waiting in range(1, 6):\n",
        "  print(\"대기번호 : {0}\".format(waiting))"
      ],
      "metadata": {
        "colab": {
          "base_uri": "https://localhost:8080/"
        },
        "id": "jVMM-CEQlXtY",
        "outputId": "a417c11b-92d5-42c3-e94e-336ecc03d6a8"
      },
      "execution_count": 8,
      "outputs": [
        {
          "output_type": "stream",
          "name": "stdout",
          "text": [
            "대기번호 : 1\n",
            "대기번호 : 2\n",
            "대기번호 : 3\n",
            "대기번호 : 4\n",
            "대기번호 : 5\n"
          ]
        }
      ]
    },
    {
      "cell_type": "markdown",
      "source": [
        "- range() 함수를 사용해서 2씩 증가하는 대기번호 만들기"
      ],
      "metadata": {
        "id": "qG0kzRfCllaD"
      }
    },
    {
      "cell_type": "code",
      "source": [
        "for waiting in range(1, 6, 2):\n",
        "  print(\"대기번호 : {0}\".format(waiting))"
      ],
      "metadata": {
        "colab": {
          "base_uri": "https://localhost:8080/"
        },
        "id": "DMd3yG3-lsfp",
        "outputId": "e94d3188-9774-4401-898e-c5e9ab7fff11"
      },
      "execution_count": 9,
      "outputs": [
        {
          "output_type": "stream",
          "name": "stdout",
          "text": [
            "대기번호 : 1\n",
            "대기번호 : 3\n",
            "대기번호 : 5\n"
          ]
        }
      ]
    },
    {
      "cell_type": "markdown",
      "source": [
        "## 2) while문 : 조건을 만족할 동안 반복하기"
      ],
      "metadata": {
        "id": "32Re7R_KK3fw"
      }
    },
    {
      "cell_type": "markdown",
      "source": [
        "- while 조건:\n",
        "> 실행할 명령 1\n",
        "- 조건을 하는 동안 계속해서 실행됨"
      ],
      "metadata": {
        "id": "vVFbEIakl0sx"
      }
    },
    {
      "cell_type": "code",
      "source": [
        "customer = \"토르\"\n",
        "index = 5            #초깃값, 부르는 횟수 최대 5번\n",
        "\n",
        "while index >= 1:    #부르는 횟수가 1이상일때\n",
        "  print(\"{}님, 커피가 준비됐습니다.\".format(customer))\n",
        "  index -= 1\n",
        "  print(\"{}번 남았어요,\".format(index))\n",
        "  if index == 0:\n",
        "      print(\"커피를 폐기 처분합니다.\")\n",
        "\n"
      ],
      "metadata": {
        "colab": {
          "base_uri": "https://localhost:8080/"
        },
        "id": "GsWe8D9smOAJ",
        "outputId": "b251e8d7-214c-432f-c709-92fbae5036af"
      },
      "execution_count": 10,
      "outputs": [
        {
          "output_type": "stream",
          "name": "stdout",
          "text": [
            "토르님, 커피가 준비됐습니다.\n",
            "4번 남았어요,\n",
            "토르님, 커피가 준비됐습니다.\n",
            "3번 남았어요,\n",
            "토르님, 커피가 준비됐습니다.\n",
            "2번 남았어요,\n",
            "토르님, 커피가 준비됐습니다.\n",
            "1번 남았어요,\n",
            "토르님, 커피가 준비됐습니다.\n",
            "0번 남았어요,\n",
            "커피를 폐기 처분합니다.\n"
          ]
        }
      ]
    },
    {
      "cell_type": "markdown",
      "source": [
        "- 무한루프 탈출법 : ctrl + c"
      ],
      "metadata": {
        "id": "UxmGFMrGnHjz"
      }
    },
    {
      "cell_type": "markdown",
      "source": [
        "## 3) continue / break : 흐름 제어하기"
      ],
      "metadata": {
        "id": "_MmJIclhK3iZ"
      }
    },
    {
      "cell_type": "markdown",
      "source": [
        "- continue : 다음 대상으로 넘어갈 때"
      ],
      "metadata": {
        "id": "eXBnTdn5nTuM"
      }
    },
    {
      "cell_type": "code",
      "source": [
        "absent = [2, 5]\n",
        "\n",
        "for student in range(1, 11):\n",
        "  if student in absent:\n",
        "    continue\n",
        "  print(\"{0}번 학생, 책을 읽어보세요.\".format(student))"
      ],
      "metadata": {
        "colab": {
          "base_uri": "https://localhost:8080/"
        },
        "id": "xjcm8LWIneXa",
        "outputId": "da907c23-5567-4f1e-88ff-f5fb4dfcd725"
      },
      "execution_count": 11,
      "outputs": [
        {
          "output_type": "stream",
          "name": "stdout",
          "text": [
            "1번 학생, 책을 읽어보세요.\n",
            "3번 학생, 책을 읽어보세요.\n",
            "4번 학생, 책을 읽어보세요.\n",
            "6번 학생, 책을 읽어보세요.\n",
            "7번 학생, 책을 읽어보세요.\n",
            "8번 학생, 책을 읽어보세요.\n",
            "9번 학생, 책을 읽어보세요.\n",
            "10번 학생, 책을 읽어보세요.\n"
          ]
        }
      ]
    },
    {
      "cell_type": "markdown",
      "source": [
        "- break : 해당 번호가 되었을 때 바로 멈춤 "
      ],
      "metadata": {
        "id": "hymBy9BKnreE"
      }
    },
    {
      "cell_type": "code",
      "source": [
        "absent = [2,5]\n",
        "no_book = [7]\n",
        "\n",
        "for student in range(1, 11):\n",
        "  if student in absent:\n",
        "    continue\n",
        "  elif student in no_book:\n",
        "    print(\"오늘 수업 여기까지.\")\n",
        "    break\n",
        "print(\"{0}번 학생, 책을 읽어보세요.\".format(student))"
      ],
      "metadata": {
        "colab": {
          "base_uri": "https://localhost:8080/"
        },
        "id": "mAZ6m5iDnytR",
        "outputId": "a9a2439f-b5d9-422d-86c3-69e9512610dd"
      },
      "execution_count": 12,
      "outputs": [
        {
          "output_type": "stream",
          "name": "stdout",
          "text": [
            "오늘 수업 여기까지.\n",
            "7번 학생, 책을 읽어보세요.\n"
          ]
        }
      ]
    },
    {
      "cell_type": "markdown",
      "source": [
        "## 4) for문 한줄로 작성하기 "
      ],
      "metadata": {
        "id": "NOInsJ61K3kR"
      }
    },
    {
      "cell_type": "markdown",
      "source": [
        "- 동작 for 변수  in 반복대상"
      ],
      "metadata": {
        "id": "uc9XiPf0os5T"
      }
    },
    {
      "cell_type": "code",
      "source": [
        "students = [1,2,3,4,5]\n",
        "print(students)\n",
        "\n",
        "students = [i+100 for i in students]\n",
        "print(students)"
      ],
      "metadata": {
        "colab": {
          "base_uri": "https://localhost:8080/"
        },
        "id": "9h6hDat-oxpJ",
        "outputId": "65dd8234-0a84-404e-800b-48c5d66b4ac1"
      },
      "execution_count": 13,
      "outputs": [
        {
          "output_type": "stream",
          "name": "stdout",
          "text": [
            "[1, 2, 3, 4, 5]\n",
            "[101, 102, 103, 104, 105]\n"
          ]
        }
      ]
    },
    {
      "cell_type": "code",
      "source": [
        "students = [\"park jihye\", \"park seojun\", \"lee jehun\"]\n",
        "print(students)\n",
        "\n",
        "students = [len(i) for i in students]\n",
        "print(students)"
      ],
      "metadata": {
        "colab": {
          "base_uri": "https://localhost:8080/"
        },
        "id": "dcRmfSh0pQlh",
        "outputId": "67c07ccc-9abe-47d7-be85-679a9fc357bd"
      },
      "execution_count": 16,
      "outputs": [
        {
          "output_type": "stream",
          "name": "stdout",
          "text": [
            "['park jihye', 'park seojun', 'lee jehun']\n",
            "[10, 11, 9]\n"
          ]
        }
      ]
    },
    {
      "cell_type": "markdown",
      "source": [
        "# 3. 연습문제"
      ],
      "metadata": {
        "id": "N2V_fqwnK31p"
      }
    },
    {
      "cell_type": "markdown",
      "source": [
        "## 1) 택시승객 수 구하기\n",
        "###문제\n",
        "- 손님이 총 50명일 때, 조건을 만족하는 총 탑승객 수를 구하는 프로그램\n",
        "\n",
        "###조건\n",
        "- 손님별 운행 소요시간은 5~50분 사이 난수로 정한다.\n",
        "- 운행 소요시간은 5~15분인 손님만 매칭한다.\n",
        "- 실행 결과는 다음 형태로 출력, 매칭되면 [0], 안되면 []로 표시\n",
        "\n",
        "###실행결과\n",
        "- [0] 1번째 손님(소요시간 : 15분)\n",
        "- ...\n",
        "- 총 탑승객 2명"
      ],
      "metadata": {
        "id": "viwA-bUVp7fF"
      }
    },
    {
      "cell_type": "code",
      "source": [],
      "metadata": {
        "id": "FpUro_w2rPbU"
      },
      "execution_count": null,
      "outputs": []
    },
    {
      "cell_type": "markdown",
      "source": [
        "## 2) 편의점 프로그램\n",
        "### 문제\n",
        "- 편의점 2+1 이벤트시 구매 상품 수에 따른 가격 계산 \n",
        "\n",
        "### 조건\n",
        "- 상품 1개 가격은 1,000원\n",
        "- 고객은 3, 6, 9처럼 3의 배수로 상품 구매 가정\n",
        "- 상품 스캔할 때마다 '2+1 상품입니다.' 출력함 \n",
        "\n",
        "### 실행 결과\n",
        "- 3개 구매시\n",
        "- 2+1 상품입니다.\n",
        "- 2+1 상품입니다.\n",
        "- 2+1 상품입니다.\n",
        "총 가격을 2000원입니다."
      ],
      "metadata": {
        "id": "7_1xWjTAp-pp"
      }
    }
  ]
}