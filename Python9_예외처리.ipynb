{
  "nbformat": 4,
  "nbformat_minor": 0,
  "metadata": {
    "colab": {
      "provenance": [],
      "authorship_tag": "ABX9TyMWWhUxg05hhhXJbPFgu847",
      "include_colab_link": true
    },
    "kernelspec": {
      "name": "python3",
      "display_name": "Python 3"
    },
    "language_info": {
      "name": "python"
    }
  },
  "cells": [
    {
      "cell_type": "markdown",
      "metadata": {
        "id": "view-in-github",
        "colab_type": "text"
      },
      "source": [
        "<a href=\"https://colab.research.google.com/github/jhportfolio1/SelfStudy-Python/blob/main/Python9_%EC%98%88%EC%99%B8%EC%B2%98%EB%A6%AC.ipynb\" target=\"_parent\"><img src=\"https://colab.research.google.com/assets/colab-badge.svg\" alt=\"Open In Colab\"/></a>"
      ]
    },
    {
      "cell_type": "markdown",
      "source": [
        "# 1. 예외처리 하기"
      ],
      "metadata": {
        "id": "iZEVyoUcZsoZ"
      }
    },
    {
      "cell_type": "markdown",
      "source": [
        "## 1) 예외처리란"
      ],
      "metadata": {
        "id": "6gCq9FW-ZtrQ"
      }
    },
    {
      "cell_type": "markdown",
      "source": [
        "- 오류 상황에 대처하기 위한 '예외처리'"
      ],
      "metadata": {
        "id": "G7v37hQwSDKp"
      }
    },
    {
      "cell_type": "markdown",
      "source": [
        "## 2) try - except 문 : 예외처리하기"
      ],
      "metadata": {
        "id": "WsbATyteZtwO"
      }
    },
    {
      "cell_type": "markdown",
      "source": [
        "- try :\n",
        "> 실행할 명령\n",
        "- except 오류종류:\n",
        "> 예외 처리 명령"
      ],
      "metadata": {
        "id": "izLPut_uSJZd"
      }
    },
    {
      "cell_type": "code",
      "source": [
        "try:\n",
        "  print(\"나누기 전용 계산기입니다.\")\n",
        "  num1 = int(input(\"첫번째 숫자를 입력하세요 : \"))\n",
        "  num2 = int(input(\"두번째 숫자를 입력하세요 : \"))\n",
        "  print(\"{0} / {1} = {2}\".format(num1, num2, int(num1/num2)))\n",
        "\n",
        "except ValueError:\n",
        "  print(\"오류 발생! 잘못된 값을 입력했습니다.\")"
      ],
      "metadata": {
        "colab": {
          "base_uri": "https://localhost:8080/"
        },
        "id": "KI3lnz9VSXG7",
        "outputId": "8e39953f-2fc3-40bc-ef75-af132c1aaf09"
      },
      "execution_count": 3,
      "outputs": [
        {
          "output_type": "stream",
          "name": "stdout",
          "text": [
            "나누기 전용 계산기입니다.\n",
            "첫번째 숫자를 입력하세요 : 6\n",
            "두번째 숫자를 입력하세요 : 삼\n",
            "오류 발생! 잘못된 값을 입력했습니다.\n"
          ]
        }
      ]
    },
    {
      "cell_type": "markdown",
      "source": [
        "## 3) 오류 메세지를 예외 처리로 출력하기"
      ],
      "metadata": {
        "id": "xFtL7DuJZt8r"
      }
    },
    {
      "cell_type": "markdown",
      "source": [
        "- 같은 코드에서 2번째 except가 필요할 때"
      ],
      "metadata": {
        "id": "uJRU55V2TDaE"
      }
    },
    {
      "cell_type": "code",
      "source": [
        "try:\n",
        "  print(\"나누기 전용 계산기입니다.\")\n",
        "  num1 = int(input(\"첫번째 숫자를 입력하세요 : \"))\n",
        "  num2 = int(input(\"두번째 숫자를 입력하세요 : \"))\n",
        "  print(\"{0} / {1} = {2}\".format(num1, num2, int(num1/num2)))\n",
        "\n",
        "except ValueError:\n",
        "  print(\"오류 발생! 잘못된 값을 입력했습니다.\")\n",
        "\n",
        "except ZeroDivisionError as err:\n",
        "  print(err)\n",
        "\n",
        "except Exception as err:\n",
        "  print(\"알 수 없는 오류가 발생했습니다.\")\n",
        "  print(err)"
      ],
      "metadata": {
        "colab": {
          "base_uri": "https://localhost:8080/"
        },
        "id": "JH39NiGHTOEu",
        "outputId": "fe413b78-042b-41b5-dadd-9fc9a8fa90a6"
      },
      "execution_count": 5,
      "outputs": [
        {
          "output_type": "stream",
          "name": "stdout",
          "text": [
            "나누기 전용 계산기입니다.\n",
            "첫번째 숫자를 입력하세요 : 0\n",
            "두번째 숫자를 입력하세요 : 6\n",
            "0 / 6 = 0\n"
          ]
        }
      ]
    },
    {
      "cell_type": "markdown",
      "source": [
        "# 2. 오류 발생시키기 "
      ],
      "metadata": {
        "id": "RpGxivNGZuD1"
      }
    },
    {
      "cell_type": "markdown",
      "source": [
        "- raise 오류종류\n",
        "- 일부러 오류 발생시킬 수 있음"
      ],
      "metadata": {
        "id": "0pwRkT_KTyJY"
      }
    },
    {
      "cell_type": "code",
      "source": [
        "try:\n",
        "  print(\"나누기 전용 계산기입니다.\")\n",
        "  num1 = int(input(\"첫번째 숫자를 입력하세요 : \"))\n",
        "  num2 = int(input(\"두번째 숫자를 입력하세요 : \"))\n",
        "  \n",
        "  if num1 >= 10 or num2 >= 10:\n",
        "    raise ValueError\n",
        "\n",
        "  print(\"{0} / {1} = {2}\".format(num1, num2, int(num1/num2)))\n",
        "\n",
        "except ValueError:\n",
        "  print(\"오류 발생! 잘못된 값을 입력했습니다.\")"
      ],
      "metadata": {
        "colab": {
          "base_uri": "https://localhost:8080/"
        },
        "id": "maqFaAv7T6M0",
        "outputId": "6f48f86f-e121-4e63-bf09-95fc706f232e"
      },
      "execution_count": 7,
      "outputs": [
        {
          "output_type": "stream",
          "name": "stdout",
          "text": [
            "나누기 전용 계산기입니다.\n",
            "첫번째 숫자를 입력하세요 : 10\n",
            "두번째 숫자를 입력하세요 : \n",
            "오류 발생! 잘못된 값을 입력했습니다.\n"
          ]
        }
      ]
    },
    {
      "cell_type": "markdown",
      "source": [
        "# 3. 사용자 정의 예외 처리하기"
      ],
      "metadata": {
        "id": "W1dmnMhMZuJf"
      }
    },
    {
      "cell_type": "code",
      "source": [
        "class BignumberError(Exception):\n",
        "  def __init__(self,msg):\n",
        "    self.msg = msg\n",
        "\n",
        "  def __str__(self):\n",
        "    return \"[오류코드 001] \" + self.msg\n",
        "\n",
        "try:\n",
        "  print(\"나누기 전용 계산기입니다.\")\n",
        "  num1 = int(input(\"첫번째 숫자를 입력하세요 : \"))\n",
        "  num2 = int(input(\"두번째 숫자를 입력하세요 : \"))\n",
        "  \n",
        "  if num1 >= 10 or num2 >= 10:\n",
        "    raise BignumberError(\"입력값 : {0}, {1}\".format(num1, num2))\n",
        "\n",
        "  print(\"{0} / {1} = {2}\".format(num1, num2, int(num1/num2)))\n",
        "\n",
        "except ValueError:\n",
        "  print(\"오류 발생! 잘못된 값을 입력했습니다.\")\n",
        "\n",
        "except BignumberError as err:\n",
        "  print(\"오류가 발생했습니다. 한 자리 숫자만 입력하세요.\")\n",
        "  print(err)"
      ],
      "metadata": {
        "colab": {
          "base_uri": "https://localhost:8080/"
        },
        "id": "Ng5RUYYbUkjT",
        "outputId": "3d3dddf8-175e-4101-e548-8764f4d40048"
      },
      "execution_count": 9,
      "outputs": [
        {
          "output_type": "stream",
          "name": "stdout",
          "text": [
            "나누기 전용 계산기입니다.\n",
            "첫번째 숫자를 입력하세요 : 10\n",
            "두번째 숫자를 입력하세요 : 5\n",
            "오류가 발생했습니다. 한 자리 숫자만 입력하세요.\n",
            "[오류코드 001] 입력값 : 10, 5\n"
          ]
        }
      ]
    },
    {
      "cell_type": "markdown",
      "source": [
        "# 4. finally : 오류와 상관없이 무조건 실행하기 "
      ],
      "metadata": {
        "id": "1HBiwsqaZuOi"
      }
    },
    {
      "cell_type": "markdown",
      "source": [
        "- try:\n",
        "> 실행할 명령 \n",
        "- except:\n",
        "> 예외처리 명령\n",
        "- finally:\n",
        "> 실행할 명령\n",
        "- 에러에 상관없이 무조건 출력되게 만듦"
      ],
      "metadata": {
        "id": "fITelCxDVZI_"
      }
    },
    {
      "cell_type": "code",
      "source": [
        "class BignumberError(Exception):\n",
        "  def __init__(self,msg):\n",
        "    self.msg = msg\n",
        "\n",
        "  def __str__(self):\n",
        "    return \"[오류코드 001] \" + self.msg\n",
        "\n",
        "try:\n",
        "  print(\"나누기 전용 계산기입니다.\")\n",
        "  num1 = int(input(\"첫번째 숫자를 입력하세요 : \"))\n",
        "  num2 = int(input(\"두번째 숫자를 입력하세요 : \"))\n",
        "  \n",
        "  if num1 >= 10 or num2 >= 10:\n",
        "    raise BignumberError(\"입력값 : {0}, {1}\".format(num1, num2))\n",
        "\n",
        "  print(\"{0} / {1} = {2}\".format(num1, num2, int(num1/num2)))\n",
        "\n",
        "except ValueError:\n",
        "  print(\"오류 발생! 잘못된 값을 입력했습니다.\")\n",
        "\n",
        "except BignumberError as err:\n",
        "  print(\"오류가 발생했습니다. 한 자리 숫자만 입력하세요.\")\n",
        "  print(err)\n",
        "\n",
        "finally:\n",
        "  print(\"계산기를 이용해주셔서 감사합니다.\")"
      ],
      "metadata": {
        "colab": {
          "base_uri": "https://localhost:8080/"
        },
        "id": "MHAVQ0BpVlW4",
        "outputId": "0a709235-4768-43af-defc-a76e54b5832b"
      },
      "execution_count": 10,
      "outputs": [
        {
          "output_type": "stream",
          "name": "stdout",
          "text": [
            "나누기 전용 계산기입니다.\n",
            "첫번째 숫자를 입력하세요 : 10\n",
            "두번째 숫자를 입력하세요 : 5\n",
            "오류가 발생했습니다. 한 자리 숫자만 입력하세요.\n",
            "[오류코드 001] 입력값 : 10, 5\n",
            "계산기를 이용해주셔서 감사합니다.\n"
          ]
        }
      ]
    },
    {
      "cell_type": "markdown",
      "source": [
        "# 5. 연습문제"
      ],
      "metadata": {
        "id": "fHEY5kViZuTN"
      }
    },
    {
      "cell_type": "markdown",
      "source": [
        "## 1) 치킨 주문하기\n",
        "\n",
        "### 문제\n",
        "- 다음 코드를 확인하고 적절한 예외 처리 구문을 추가하세요."
      ],
      "metadata": {
        "id": "owu87UKsVwVi"
      }
    },
    {
      "cell_type": "code",
      "source": [
        "chicken = 10 #남은 치킨 수\n",
        "waiting = 1  #대기번호, 1부터 시작\n",
        "\n",
        "while True:\n",
        "  print(\"[남은 치킨 : {0}]\".format(chicken)\n",
        "  order = int(input(\"치킨을 몇마리 주문하시겠습니까?\"))\n",
        "  if order > chicken:\n",
        "    print(\"재료가 부족합니다.) \n",
        "  else:\n",
        "    print(\"[대기번호 {0}] {1}마리를 주문했습니다.\".format(waiting, order))\n",
        "    waiting += 1\n",
        "    chicken -= order"
      ],
      "metadata": {
        "colab": {
          "base_uri": "https://localhost:8080/",
          "height": 138
        },
        "id": "lI6PoyUDWRjV",
        "outputId": "b0a3c2ed-0658-46f2-f94d-bc41d70d565e"
      },
      "execution_count": 12,
      "outputs": [
        {
          "output_type": "error",
          "ename": "SyntaxError",
          "evalue": "ignored",
          "traceback": [
            "\u001b[0;36m  File \u001b[0;32m\"<ipython-input-12-d5b2b559a673>\"\u001b[0;36m, line \u001b[0;32m6\u001b[0m\n\u001b[0;31m    order = int(input(\"치킨을 몇마리 주문하시겠습니까?\"))\u001b[0m\n\u001b[0m    ^\u001b[0m\n\u001b[0;31mSyntaxError\u001b[0m\u001b[0;31m:\u001b[0m invalid syntax\n"
          ]
        }
      ]
    },
    {
      "cell_type": "markdown",
      "source": [
        "### 조건 \n",
        "- 1보다 작거나 숫자가 아닌 입력값이 들어올 때는 ValueError 처리 -> 값을 잘못 입력했습니다.\n",
        "- 대기 손님 주문할 수 있는 최대주문량 10마리\n",
        "- 치킨 소진 시 오류(soldouterror)발생 후 프로그램 종료\n",
        "- 재료가 소진돼 더 이상 주문을 받지 않습니다."
      ],
      "metadata": {
        "id": "DiCWJeXmWkIX"
      }
    },
    {
      "cell_type": "markdown",
      "source": [
        "## 2) 스마트폰 배터리 관리 프로그램\n",
        "\n",
        "###문제 : 배터리 잔량 관리 프로그램\n",
        "\n",
        "###조건\n",
        "- save_battery 함수 만든다.\n",
        "- 함수에서 배터리 잔량 정보인 level을 전달값으로 받고, 별도의 반환값 없음\n",
        "- 함수 호출시 배터리 잔량을 출력한 뒤 잔략에 따라 동작 수행한다. 함수 안에 적절한 예외 처리해서 프로그램이 비정상적으로 종료되지 않게 한다.\n",
        "- 배터리 잔량에 따른 동작은 다음과 같다.\n",
        "- 잔량 30% 초과 : 일반모드\n",
        "- 잔량 5% 초과, 30% 이하 : 절전모드 \n",
        "- 잔량 5% 이하 : 종료(오류발생)\n",
        "- 배터리 잔량이 5% 이하면, 종료 메시지 담은 Exception 객체 생성해 오류 발생시키고, 오류 처리하는 곳에서 메시지 출력되도록 한다.\n"
      ],
      "metadata": {
        "id": "upuDdjCMWzim"
      }
    },
    {
      "cell_type": "code",
      "source": [],
      "metadata": {
        "id": "gIKrJuTxXbJd"
      },
      "execution_count": null,
      "outputs": []
    }
  ]
}