{
  "nbformat": 4,
  "nbformat_minor": 0,
  "metadata": {
    "colab": {
      "provenance": [],
      "authorship_tag": "ABX9TyPNc/5qI0DspdAxKMT6Hei5",
      "include_colab_link": true
    },
    "kernelspec": {
      "name": "python3",
      "display_name": "Python 3"
    },
    "language_info": {
      "name": "python"
    }
  },
  "cells": [
    {
      "cell_type": "markdown",
      "metadata": {
        "id": "view-in-github",
        "colab_type": "text"
      },
      "source": [
        "<a href=\"https://colab.research.google.com/github/jhportfolio1/SelfStudy-Python/blob/main/Python8_%ED%81%B4%EB%9E%98%EC%8A%A4(%EC%8A%A4%ED%83%80%ED%81%AC%EB%9E%98%ED%94%84%ED%8A%B8).ipynb\" target=\"_parent\"><img src=\"https://colab.research.google.com/assets/colab-badge.svg\" alt=\"Open In Colab\"/></a>"
      ]
    },
    {
      "cell_type": "markdown",
      "source": [
        "# 1. 게임 소개"
      ],
      "metadata": {
        "id": "XWLExtlvX6wM"
      }
    },
    {
      "cell_type": "markdown",
      "source": [
        "- 보병 : 공격유닛, 군인, 총을 쏠 수 있음"
      ],
      "metadata": {
        "id": "GgESzpIfB-qb"
      }
    },
    {
      "cell_type": "code",
      "source": [
        "name = \"마린\"\n",
        "hp = 40\n",
        "damage = 5\n",
        "\n",
        "print(\"{} 유닛을 생성하였습니다.\".format(name))\n",
        "print(\"체력 {0}, 공격력{1}\\n\".format(hp,damage))"
      ],
      "metadata": {
        "colab": {
          "base_uri": "https://localhost:8080/"
        },
        "id": "JcQ_ToPGCGqA",
        "outputId": "86066c26-846b-4c5a-9386-eeed5af87342"
      },
      "execution_count": 1,
      "outputs": [
        {
          "output_type": "stream",
          "name": "stdout",
          "text": [
            "마린 유닛을 생성하였습니다.\n",
            "체력 40, 공격력5\n",
            "\n"
          ]
        }
      ]
    },
    {
      "cell_type": "markdown",
      "source": [
        "- 탱크 : 공격유닛, 포를 쏠 수 있음, 일반모드/시저모드"
      ],
      "metadata": {
        "id": "xo5MeSbZCaA2"
      }
    },
    {
      "cell_type": "code",
      "source": [
        "tank_name = \"탱크\"\n",
        "tank_hp = 150\n",
        "tank_damage = 35\n",
        "\n",
        "print(\"{} 유닛을 생성하였습니다.\".format(tank_name))\n",
        "print(\"체력 {0}, 공격력{1}\\n\".format(tank_hp,tank_damage))"
      ],
      "metadata": {
        "colab": {
          "base_uri": "https://localhost:8080/"
        },
        "id": "FqzwYeewCxoq",
        "outputId": "16b0b5cf-a5c1-43cc-cd14-3045935e926b"
      },
      "execution_count": 2,
      "outputs": [
        {
          "output_type": "stream",
          "name": "stdout",
          "text": [
            "탱크 유닛을 생성하였습니다.\n",
            "체력 150, 공격력35\n",
            "\n"
          ]
        }
      ]
    },
    {
      "cell_type": "markdown",
      "source": [
        "- 탱크2 추가"
      ],
      "metadata": {
        "id": "B2DZnI45C9At"
      }
    },
    {
      "cell_type": "code",
      "source": [
        "tank2_name = \"탱크\"\n",
        "tank2_hp = 150\n",
        "tank2_damage = 35\n",
        "\n",
        "print(\"{} 유닛을 생성하였습니다.\".format(tank2_name))\n",
        "print(\"체력 {0}, 공격력{1}\\n\".format(tank2_hp,tank2_damage))"
      ],
      "metadata": {
        "colab": {
          "base_uri": "https://localhost:8080/"
        },
        "id": "wu5qeqgvC-sx",
        "outputId": "3379d14b-d025-47ef-e07f-922947058b4f"
      },
      "execution_count": 3,
      "outputs": [
        {
          "output_type": "stream",
          "name": "stdout",
          "text": [
            "탱크 유닛을 생성하였습니다.\n",
            "체력 150, 공격력35\n",
            "\n"
          ]
        }
      ]
    },
    {
      "cell_type": "markdown",
      "source": [
        "- 공격"
      ],
      "metadata": {
        "id": "v8PAxaXUDFTD"
      }
    },
    {
      "cell_type": "code",
      "source": [
        "def attack(name, location, damage):\n",
        "  print(\"{0} : {1} 방향 적군을 공격합니다. [공격력 {2}]\".format(name, location, damage))\n",
        "\n",
        "attack(name, \"1시\", damage)\n",
        "attack(tank_name, \"1시\", damage)\n",
        "attack(tank2_name, \"1시\", damage)"
      ],
      "metadata": {
        "colab": {
          "base_uri": "https://localhost:8080/"
        },
        "id": "KF2p0zlIDGe6",
        "outputId": "04b82dc9-92e9-4e2b-b613-fb9b17c99948"
      },
      "execution_count": 4,
      "outputs": [
        {
          "output_type": "stream",
          "name": "stdout",
          "text": [
            "마린 : 1시 방향 적군을 공격합니다. [공격력 5]\n",
            "탱크 : 1시 방향 적군을 공격합니다. [공격력 5]\n",
            "탱크 : 1시 방향 적군을 공격합니다. [공격력 5]\n"
          ]
        }
      ]
    },
    {
      "cell_type": "markdown",
      "source": [
        "# 2. 클래스와 객체 생성하기"
      ],
      "metadata": {
        "id": "fGZIWpRuX7cN"
      }
    },
    {
      "cell_type": "markdown",
      "source": [
        "- 클래스 : 붕어빵 틀 \n",
        "- 메서드 : 클래스 안에 필요한 함수\n",
        "- class 클래스명:\n",
        ">def 메서드명1(self, 전달값1, 전달값2,...):\n",
        ">>실행할 명령1\n",
        "- self.변수명 = 값\n",
        "- 객체명 = 클래스명(전달값1, 전달값2, ...)"
      ],
      "metadata": {
        "id": "DQGF6t5zDhk8"
      }
    },
    {
      "cell_type": "markdown",
      "source": [
        "## 1) __init__() :생성자"
      ],
      "metadata": {
        "id": "GfAC0jbBX7fV"
      }
    },
    {
      "cell_type": "code",
      "source": [
        "class Unit:\n",
        "  def __init__(self, name, hp, damage):\n",
        "    self.name = name\n",
        "    self.hp = hp\n",
        "    self.damage = damage\n",
        "    print(\"{0} 유닛을 생성했습니다.\".format(self.name))\n",
        "    print(\"체력 {0}, 공격력 {1}\".format(self.hp, self.damage))\n",
        "\n",
        "soldier1 = Unit(\"보병\", 40, 5)\n",
        "soldier2 = Unit(\"보병\", 40, 5)\n",
        "tank = Unit(\"탱크\", 150, 35)"
      ],
      "metadata": {
        "colab": {
          "base_uri": "https://localhost:8080/"
        },
        "id": "0z5mVAwzEajo",
        "outputId": "ebcaecbf-0758-4e62-b3b0-b21fe960c1c4"
      },
      "execution_count": 6,
      "outputs": [
        {
          "output_type": "stream",
          "name": "stdout",
          "text": [
            "보병 유닛을 생성했습니다.\n",
            "체력 40, 공격력 5\n",
            "보병 유닛을 생성했습니다.\n",
            "체력 40, 공격력 5\n",
            "탱크 유닛을 생성했습니다.\n",
            "체력 150, 공격력 35\n"
          ]
        }
      ]
    },
    {
      "cell_type": "markdown",
      "source": [
        "- soldier1, soldier2, tank : Unit 클래스의 Instance(객체,object)\n",
        "- 값이 3개인데, 2개만 보내면 에러남"
      ],
      "metadata": {
        "id": "ttVh0T-NFDv1"
      }
    },
    {
      "cell_type": "markdown",
      "source": [
        "## 2) 인스턴스 변수"
      ],
      "metadata": {
        "id": "jEvrE43mX7hJ"
      }
    },
    {
      "cell_type": "code",
      "source": [
        "class Unit:\n",
        "  def __init__(self, name, hp, damage):\n",
        "    self.name = name\n",
        "    self.hp = hp\n",
        "    self.damage = damage\n",
        "    print(\"{0} 유닛을 생성했습니다.\".format(self.name))\n",
        "    print(\"체력 {0}, 공격력 {1}\".format(self.hp, self.damage))\n",
        "\n",
        "Wraith1 = Unit(\"전투기\", 80, 5)\n",
        "print(\"유닛이름 : {0}, 공격력 : {1}\".format(Wraith1.name, Wraith1.damage))"
      ],
      "metadata": {
        "colab": {
          "base_uri": "https://localhost:8080/"
        },
        "id": "q2J6VuPPF61s",
        "outputId": "9856897f-5751-4a6d-99e1-32aa8e11dabc"
      },
      "execution_count": 8,
      "outputs": [
        {
          "output_type": "stream",
          "name": "stdout",
          "text": [
            "전투기 유닛을 생성했습니다.\n",
            "체력 80, 공격력 5\n",
            "유닛이름 : 전투기, 공격력 : 5\n"
          ]
        }
      ]
    },
    {
      "cell_type": "code",
      "source": [
        "class Unit:\n",
        "  def __init__(self, name, hp, damage):\n",
        "    self.name = name\n",
        "    self.hp = hp\n",
        "    self.damage = damage\n",
        "    print(\"{0} 유닛을 생성했습니다.\".format(self.name))\n",
        "    print(\"체력 {0}, 공격력 {1}\".format(self.hp, self.damage))\n",
        "\n",
        "Wraith2 = Unit(\"업그레이드한 전투기\", 80, 5)\n",
        "Wraith2.cloaking = True\n",
        "\n",
        "if Wraith2.cloaking == True:\n",
        "  print(\"{0}는 현재 은폐 상태입니다.\".format(Wraith2.name))\n",
        "print(\"유닛이름 : {0}, 공격력 : {1}\".format(Wraith2.name, Wraith2.damage))"
      ],
      "metadata": {
        "colab": {
          "base_uri": "https://localhost:8080/"
        },
        "id": "DL4NkUvrGc5b",
        "outputId": "92ff072b-9c29-4269-ce84-20b7f20062bb"
      },
      "execution_count": 10,
      "outputs": [
        {
          "output_type": "stream",
          "name": "stdout",
          "text": [
            "업그레이드한 전투기 유닛을 생성했습니다.\n",
            "체력 80, 공격력 5\n",
            "업그레이드한 전투기는 현재 은폐 상태입니다.\n",
            "유닛이름 : 업그레이드한 전투기, 공격력 : 5\n"
          ]
        }
      ]
    },
    {
      "cell_type": "markdown",
      "source": [
        "## 3) 메서드"
      ],
      "metadata": {
        "id": "obTF98wWX7i9"
      }
    },
    {
      "cell_type": "markdown",
      "source": [
        "- 공격유닛 클래스 정의"
      ],
      "metadata": {
        "id": "G_HvwVXQHDSO"
      }
    },
    {
      "cell_type": "code",
      "source": [
        "class AttackUnit:\n",
        "  def __init__(self, name, hp, damage):\n",
        "    self.name = name\n",
        "    self.hp = hp\n",
        "    self.damage = damage\n",
        " "
      ],
      "metadata": {
        "id": "DqOn9cuPGylm"
      },
      "execution_count": 16,
      "outputs": []
    },
    {
      "cell_type": "markdown",
      "source": [
        "- 공격유닛 공격 메서드 정의"
      ],
      "metadata": {
        "id": "q6tGZhVOHrC0"
      }
    },
    {
      "cell_type": "code",
      "source": [
        "def attack(name, location, damage):\n",
        "    print(\"{0} : {1} 방향 적군을 공격합니다. [공격력 {2}]\".format(name, location, damage))"
      ],
      "metadata": {
        "id": "aFANegXTHtoD"
      },
      "execution_count": 17,
      "outputs": []
    },
    {
      "cell_type": "markdown",
      "source": [
        "- 피해정보 메서드 정의"
      ],
      "metadata": {
        "id": "0VHJOTruHGSu"
      }
    },
    {
      "cell_type": "code",
      "source": [
        "def damaged(self, damage):\n",
        "  print(\"{0} : {1}만큼 피해를 입었습니다.\".format(self.name, damage))\n",
        "  self.hp -= damage\n",
        "  print(\"{0} : 현재 체력은 {1}입니다.\".format(self.name, self.hp))\n",
        "  if self.hp <= 0 :\n",
        "    print(\"{0} : 파괴됐습니다.\".format(self.name))"
      ],
      "metadata": {
        "id": "jaaOtM8uHz6l"
      },
      "execution_count": 18,
      "outputs": []
    },
    {
      "cell_type": "markdown",
      "source": [
        "- 위의 정보를 이용해 화염방사병 피해입고 파괴까지\n"
      ],
      "metadata": {
        "id": "64ldletJHvr7"
      }
    },
    {
      "cell_type": "code",
      "source": [
        "class AttackUnit:\n",
        "  def __init__(self, name, hp, damage):\n",
        "    self.name = name\n",
        "    self.hp = hp\n",
        "    self.damage = damage\n",
        "\n",
        "  def attack(name, location, damage):\n",
        "      print(\"{0} : {1} 방향 적군을 공격합니다. [공격력 {2}]\".format(name, location, damage))\n",
        "\n",
        "  def damaged(self, damage):\n",
        "    print(\"{0} : {1}만큼 피해를 입었습니다.\".format(self.name, damage))\n",
        "    self.hp -= damage\n",
        "    print(\"{0} : 현재 체력은 {1}입니다.\".format(self.name, self.hp))\n",
        "    if self.hp <= 0 :\n",
        "      print(\"{0} : 파괴됐습니다.\".format(self.name))\n",
        "\n",
        "\n",
        "flame1 = AttackUnit(\"화염방사병\", 50, 16)\n",
        "flame1.attack(\"5시\", 10)\n",
        "\n",
        "flame1.damaged(25)\n",
        "flame1.damaged(25)"
      ],
      "metadata": {
        "colab": {
          "base_uri": "https://localhost:8080/"
        },
        "id": "Afohpl4kIRC8",
        "outputId": "bb05a0d5-6c91-4c0c-e797-51953ba54407"
      },
      "execution_count": 23,
      "outputs": [
        {
          "output_type": "stream",
          "name": "stdout",
          "text": [
            "<__main__.AttackUnit object at 0x7f540056aeb0> : 5시 방향 적군을 공격합니다. [공격력 10]\n",
            "화염방사병 : 25만큼 피해를 입었습니다.\n",
            "화염방사병 : 현재 체력은 25입니다.\n",
            "화염방사병 : 25만큼 피해를 입었습니다.\n",
            "화염방사병 : 현재 체력은 0입니다.\n",
            "화염방사병 : 파괴됐습니다.\n"
          ]
        }
      ]
    },
    {
      "cell_type": "markdown",
      "source": [
        "# 3. 클래스 상속하기"
      ],
      "metadata": {
        "id": "OcmeySTOX7ks"
      }
    },
    {
      "cell_type": "markdown",
      "source": [
        "## 1) 상속이란"
      ],
      "metadata": {
        "id": "sDQrjtZdX7mS"
      }
    },
    {
      "cell_type": "markdown",
      "source": [
        "- 부모 클래스의 모든 인스턴스 변수와 메서드를 사용할 수 있도록 하는 것"
      ],
      "metadata": {
        "id": "bXTq3vhQJcq_"
      }
    },
    {
      "cell_type": "markdown",
      "source": [
        "- 유닛 클래스(부모)"
      ],
      "metadata": {
        "id": "odZ-M1I3KFmr"
      }
    },
    {
      "cell_type": "code",
      "source": [
        "class Unit:\n",
        "  def __init__(self, name, hp):\n",
        "    self.name = name\n",
        "    self.hp = hp"
      ],
      "metadata": {
        "id": "s4ztGc0-KKdd"
      },
      "execution_count": 24,
      "outputs": []
    },
    {
      "cell_type": "markdown",
      "source": [
        "- 공격유닛 클래스(자식)"
      ],
      "metadata": {
        "id": "AT4-AKD8KSp1"
      }
    },
    {
      "cell_type": "code",
      "source": [
        "class AttackUnit(Unit):\n",
        "  def __init__(self, name, hp, damage):\n",
        "    Unit.__init__(self, name, hp)    #부모 클래스 호출\n",
        "    self.damage = damage\n",
        "\n",
        "  def attack(name, location, damage):\n",
        "      print(\"{0} : {1} 방향 적군을 공격합니다. [공격력 {2}]\".format(self.name, location, self.damage))\n",
        "\n",
        "  def damaged(self, damage):\n",
        "    print(\"{0} : {1}만큼 피해를 입었습니다.\".format(self.name, damage))\n",
        "    self.hp -= damage\n",
        "    print(\"{0} : 현재 체력은 {1}입니다.\".format(self.name, self.hp))\n",
        "    if self.hp <= 0 :\n",
        "      print(\"{0} : 파괴됐습니다.\".format(self.name))"
      ],
      "metadata": {
        "id": "skJkDjsDKUx8"
      },
      "execution_count": 30,
      "outputs": []
    },
    {
      "cell_type": "markdown",
      "source": [
        "## 2) 다중 상속"
      ],
      "metadata": {
        "id": "0_WUxfGCX7oG"
      }
    },
    {
      "cell_type": "markdown",
      "source": [
        "- 임의의 비행 가능 유닛 클래스 정의"
      ],
      "metadata": {
        "id": "tApBj2hyK_uq"
      }
    },
    {
      "cell_type": "code",
      "source": [
        "class Flyable:\n",
        "  def __init__(self, flying_spped):\n",
        "    self.flying_speed = flying_speed\n",
        "\n",
        "  def fly(self, name, location):\n",
        "    print(\"{0} : {1} 방향으로 날아갑니다. [속도 {2}]\".format(name, location, self.flying_speed))"
      ],
      "metadata": {
        "id": "lxDLs7UFLD51"
      },
      "execution_count": 29,
      "outputs": []
    },
    {
      "cell_type": "markdown",
      "source": [
        "- 기존의 공격 유닛 클래스 정의"
      ],
      "metadata": {
        "id": "DGIlkl6gLabW"
      }
    },
    {
      "cell_type": "code",
      "source": [
        "class AttackUnit(Unit):\n",
        "  def __init__(self, name, hp, damage):\n",
        "    Unit.__init__(self, name, hp)    #부모 클래스 호출\n",
        "    self.damage = damage\n",
        "\n",
        "  def attack(name, location, damage):\n",
        "      print(\"{0} : {1} 방향 적군을 공격합니다. [공격력 {2}]\".format(self.name, location, self.damage))\n",
        "\n",
        "  def damaged(self, damage):\n",
        "    print(\"{0} : {1}만큼 피해를 입었습니다.\".format(self.name, damage))\n",
        "    self.hp -= damage\n",
        "    print(\"{0} : 현재 체력은 {1}입니다.\".format(self.name, self.hp))\n",
        "    if self.hp <= 0 :\n",
        "      print(\"{0} : 파괴됐습니다.\".format(self.name))"
      ],
      "metadata": {
        "id": "OB2Ci5GwLcu-"
      },
      "execution_count": 31,
      "outputs": []
    },
    {
      "cell_type": "markdown",
      "source": [
        "- 비행 가능 + 공격 유닛 = 비행 공격 유닛 클래스"
      ],
      "metadata": {
        "id": "uX1pE7rrLzNx"
      }
    },
    {
      "cell_type": "code",
      "source": [
        "class FlyableAttackUnit(AttackUnit, Flyable):\n",
        "  def __init__(self, name, hp, damage, flying_speed):\n",
        "    AttackUnit.__init__(self, name, hp, damage)\n",
        "    Flyable.__init__(self, flying_speed)"
      ],
      "metadata": {
        "id": "mVO5J4B-L3ns"
      },
      "execution_count": 32,
      "outputs": []
    },
    {
      "cell_type": "markdown",
      "source": [
        "## 3) 메서드 오버라이딩"
      ],
      "metadata": {
        "id": "ZBCl871DX7px"
      }
    },
    {
      "cell_type": "markdown",
      "source": [
        "- 상속 관계일 때 자식클래스에서 부모 클래스에 메서드 사용하지 않고 같은 이름으로 메서드 새롭게 정의해 사용함"
      ],
      "metadata": {
        "id": "lAzwcSTVMSwm"
      }
    },
    {
      "cell_type": "code",
      "source": [
        "class Unit:\n",
        "  def __init__(self, name, hp, speed):\n",
        "    self.name = name\n",
        "    self.hp = hp\n",
        "    self.speed = speed\n",
        "\n",
        "  def move(self, location):\n",
        "    print(\"[지상유닛이동]\")\n",
        "    print(\"{0} : {1} 방향으로 이동합니다. [속도{2}]\".format(self.name, location, self.speed))\n",
        "\n",
        "class AttackUnit(Unit):\n",
        "  def __init__(self, name, hp, damage, speed):\n",
        "    Unit.__init__(self, name, hp, speed)    #부모 클래스 호출\n",
        "    self.damage = damage\n",
        "\n",
        "  def attack(name, location):\n",
        "      print(\"{0} : {1} 방향 적군을 공격합니다. [공격력 {2}]\".format(self.name, location, self.damage))\n",
        "\n",
        "  def damaged(self, damage):\n",
        "    print(\"{0} : {1}만큼 피해를 입었습니다.\".format(self.name, damage))\n",
        "    self.hp -= damage\n",
        "    print(\"{0} : 현재 체력은 {1}입니다.\".format(self.name, self.hp))\n",
        "    if self.hp <= 0 :\n",
        "      print(\"{0} : 파괴됐습니다.\".format(self.name))\n",
        "\n",
        "class Flyable:\n",
        "  def __init__(self, flying_speed):\n",
        "    self.flying_speed = flying_speed\n",
        "\n",
        "  def fly(self, name, location):\n",
        "    print(\"{0} : {1} 방향으로 날아갑니다. [속도 {2}]\".format(name, location, self.flying_speed))\n",
        "\n",
        "class FlyableAttackUnit(AttackUnit, Flyable):\n",
        "  def __init__(self, name, hp, damage, flying_speed):\n",
        "    AttackUnit.__init__(self, name, hp, damage, 0)\n",
        "    Flyable.__init__(self, flying_speed)\n",
        "\n",
        "  def move(self, location):\n",
        "    print(\"[공중 유닛 이동]\")\n",
        "    self.fly(self.name, location)\n",
        "\n",
        "hoverbike = AttackUnit(\"호버바이크\", 80, 20, 10)\n",
        "spacecruiser = FlyableAttackUnit(\"우주순양함\", 500, 25, 3)\n",
        "\n",
        "hoverbike.move(\"11시\")\n",
        "spacecruiser.move(\"9시\")"
      ],
      "metadata": {
        "colab": {
          "base_uri": "https://localhost:8080/"
        },
        "id": "VdkvC68vMqXg",
        "outputId": "c47a25d0-d06f-4a73-b287-927bad75488e"
      },
      "execution_count": 38,
      "outputs": [
        {
          "output_type": "stream",
          "name": "stdout",
          "text": [
            "[지상유닛이동]\n",
            "호버바이크 : 11시 방향으로 이동합니다. [속도10]\n",
            "[공중 유닛 이동]\n",
            "우주순양함 : 9시 방향으로 날아갑니다. [속도 3]\n"
          ]
        }
      ]
    },
    {
      "cell_type": "markdown",
      "source": [
        "# 4. pass : 동작없이 넘어가기"
      ],
      "metadata": {
        "id": "EAw0A1jOZS6H"
      }
    },
    {
      "cell_type": "markdown",
      "source": [
        "- 아무것도 하지 않고 일단 그냥 넘어간다. (break와 같은 느낌)"
      ],
      "metadata": {
        "id": "EAc-nNjIPTwS"
      }
    },
    {
      "cell_type": "code",
      "source": [
        "def game_start():\n",
        "  print(\"[알림] 새로운 게임을 시작합니다.\")\n",
        "\n",
        "def game_over():\n",
        "  pass\n",
        "\n",
        "game_start()\n",
        "game_over()"
      ],
      "metadata": {
        "colab": {
          "base_uri": "https://localhost:8080/"
        },
        "id": "ML9OfV5bPjqm",
        "outputId": "86fc4506-aa9a-4fd5-e976-8d4a1a443f70"
      },
      "execution_count": 39,
      "outputs": [
        {
          "output_type": "stream",
          "name": "stdout",
          "text": [
            "[알림] 새로운 게임을 시작합니다.\n"
          ]
        }
      ]
    },
    {
      "cell_type": "markdown",
      "source": [
        "# 5. super() : 부모 클래스 호출하기"
      ],
      "metadata": {
        "id": "EJDH6xMCZS8o"
      }
    },
    {
      "cell_type": "markdown",
      "source": [
        "- 가장 먼저 명시된 부모 클래스만 호출함\n",
        "- 부모 클래스 모두 쓰려면, 둘다 명시해야 함"
      ],
      "metadata": {
        "id": "xSw8N2j1QJNe"
      }
    },
    {
      "cell_type": "markdown",
      "source": [
        "# 8. 연습문제 "
      ],
      "metadata": {
        "id": "i1pL1geGZkmk"
      }
    },
    {
      "cell_type": "markdown",
      "source": [
        "## 1) 부동산 프로그램 만들기\n",
        "### 조건\n",
        "- 생성자로 인스턴스 변수를 정의한다.\n",
        "- 매물정보 표시 : show_detail()\n",
        "- 실행 결과에서 나온 3가지 매물 객체로 만들고 총 매물 수 출력해서 show_detail\n",
        "()로 매물 정보 표시\n",
        "\n",
        "###실행 결과\n",
        "- 총 3가지 매물이 있습니다.\n",
        "- 강남 아파트 매매 10억 원 2010년\n",
        "- 마포 오피스텔 전세 5억 원 2007년\n",
        "- 송파 빌라 월세 500/50만 원 2000년"
      ],
      "metadata": {
        "id": "ZBtLtbm2QuRy"
      }
    },
    {
      "cell_type": "markdown",
      "source": [
        "## 2) 주차 차량 등록 관리 프로그램\n",
        "### 조건\n",
        "- 총 주차 가능 대수인 capacity는 객체 생성할 때 전달받아 인스턴스 변수로 정의\n",
        "- 현재 등록된 차량 수 관리하는 count는 객체 생성할 때 0으로 정의\n",
        "- 객체 생성할 때 등록 가능한 대수 출력\n",
        "- 차를 신규 등록하는 register() 메서드를 정의\n",
        "- 신규 등록시 등록 현황 출력\n",
        "- 총 주차 가능 대수를 초과하는 경우 '더이상 등록할 수 없습니다' 메시지 출력\n",
        "\n",
        "### 실행결과\n",
        "- 총 5대를 등록할 수 있습니다.\n",
        "- 차량 신규등록 (1/5)\n",
        "- ...\n",
        "- 더 이상 등록할 수 없습니다."
      ],
      "metadata": {
        "id": "ptG8HvuZRNQP"
      }
    }
  ]
}