{
  "nbformat": 4,
  "nbformat_minor": 0,
  "metadata": {
    "colab": {
      "provenance": [],
      "authorship_tag": "ABX9TyMyYypOyEz5x9BGRu0C5P2J",
      "include_colab_link": true
    },
    "kernelspec": {
      "name": "python3",
      "display_name": "Python 3"
    },
    "language_info": {
      "name": "python"
    }
  },
  "cells": [
    {
      "cell_type": "markdown",
      "metadata": {
        "id": "view-in-github",
        "colab_type": "text"
      },
      "source": [
        "<a href=\"https://colab.research.google.com/github/jhportfolio1/SelfStudy-Python/blob/main/Python2_%EC%97%B0%EC%82%B0%EC%9E%90.ipynb\" target=\"_parent\"><img src=\"https://colab.research.google.com/assets/colab-badge.svg\" alt=\"Open In Colab\"/></a>"
      ]
    },
    {
      "cell_type": "markdown",
      "source": [
        "#1. 연산자의 종류"
      ],
      "metadata": {
        "id": "CawCFSGswe4l"
      }
    },
    {
      "cell_type": "markdown",
      "source": [
        "##1) 산술 연산자\n"
      ],
      "metadata": {
        "id": "_DHNeRhTwjjG"
      }
    },
    {
      "cell_type": "markdown",
      "source": [
        "- '+' : 더하기\n",
        "- '-' : 빼기\n",
        "- '*' : 곱하기\n",
        "- '/' : 나누기\n",
        "- A ** B : A의 B 제곱\n",
        "- A %  B : A를 B로 나눈 나머지\n",
        "- A // B : A를 B로 나눈 몫"
      ],
      "metadata": {
        "id": "IYAKHuFa5K1U"
      }
    },
    {
      "cell_type": "markdown",
      "source": [
        "## 2) 비교 연산자"
      ],
      "metadata": {
        "id": "CAGzwIWxwlZZ"
      }
    },
    {
      "cell_type": "markdown",
      "source": [
        "- A  > B : A가 B보다 큼\n",
        "- A >= B : A가 B보다 크거나 같음 \n",
        "- A  < B : A가 B보다 작음\n",
        "- A <= B : A가 B보다 작거나 같음\n",
        "- A == B : A와 B가 같음\n",
        "- A != B : A와 B가 다름"
      ],
      "metadata": {
        "id": "_2F69KCf6mGC"
      }
    },
    {
      "cell_type": "markdown",
      "source": [
        "## 3) 논리 연산자"
      ],
      "metadata": {
        "id": "MxFxHAFNwmfq"
      }
    },
    {
      "cell_type": "markdown",
      "source": [
        "- and(&) : 모두 참이면 참\n",
        "- or (|) : 하나라도 참이면 참\n",
        "- not    : 참을 거짓으로, 거짓을 참으로"
      ],
      "metadata": {
        "id": "5BcPXu8u68Ad"
      }
    },
    {
      "cell_type": "markdown",
      "source": [
        "# 2. 변수로 연산하기"
      ],
      "metadata": {
        "id": "Vb85WZmXwrKI"
      }
    },
    {
      "cell_type": "markdown",
      "source": [
        "- += 2 : 2씩 증가해라\n",
        "- -= 2 : 2씩 빼라\n",
        "- *= 2 : 2씩 곱해라\n",
        "- /= 2 : 2씩 나눠라\n",
        "- **=2 : 2씩 제곱해라 \n",
        "- //=2 : 2로 나눈 몫을 대입해라\n",
        "- %= 2 : 2로 나눈 나머지는 대입해라"
      ],
      "metadata": {
        "id": "v3yNZVxa7e1W"
      }
    },
    {
      "cell_type": "markdown",
      "source": [
        "# 3. 함수로 연산하기"
      ],
      "metadata": {
        "id": "M-XkZLnuwsow"
      }
    },
    {
      "cell_type": "markdown",
      "source": [
        "## 1) 숫자 처리 함수"
      ],
      "metadata": {
        "id": "qB9b-iWdwvF1"
      }
    },
    {
      "cell_type": "markdown",
      "source": [
        "- abs(x)     : x의 절대값\n",
        "- pow(x,y)   : x를 y만큼 제곱한 값\n",
        "- max()      : 가장 큰 값\n",
        "- min()      : 가장 작은 값\n",
        "- round(x,d) : x값을 소숫점 d자리 만큼 반올림 표시"
      ],
      "metadata": {
        "id": "DwXidrHW8C42"
      }
    },
    {
      "cell_type": "markdown",
      "source": [
        "## 2) Math 모듈 : from 모듈명 import 기능 (*)"
      ],
      "metadata": {
        "id": "ooWGSu_zwwv_"
      }
    },
    {
      "cell_type": "markdown",
      "source": [
        "- floor() : 내림\n",
        "- ceil()  : 올림\n",
        "- sqrt()  : 제곱근"
      ],
      "metadata": {
        "id": "cYE_AtPz8hnm"
      }
    },
    {
      "cell_type": "markdown",
      "source": [
        "## 3) random 모듈"
      ],
      "metadata": {
        "id": "_5BGaAerwy1F"
      }
    },
    {
      "cell_type": "markdown",
      "source": [
        "- from random import * 작성으로 시작\n",
        "\n"
      ],
      "metadata": {
        "id": "gcFyBHXI9YdM"
      }
    },
    {
      "cell_type": "markdown",
      "source": [
        "- random()        : 0부터 난수 생성\n",
        "- int(random())   : 0부터 정수형 난수 생성 \n",
        "- int(random())+1 : 1부터 정수형 난수 생성\n",
        "- randrange(a, b) : a, b사이 정수인 난수 생성(b미포함)\n",
        "- randint(a,b)    : a, b사이 정수인 난수 생성(b포함)"
      ],
      "metadata": {
        "id": "cMi4LQKw9v-C"
      }
    },
    {
      "cell_type": "markdown",
      "source": [
        "# 4. 실습 문제 및 셀프 체크"
      ],
      "metadata": {
        "id": "ShUz-4HCw19l"
      }
    },
    {
      "cell_type": "markdown",
      "source": [
        "## 1) 스터디 모임 날짜 정하기\n",
        "### 문제 : 월 4번 모이는데, 3번 온라인, 1번 오프라인 모임이며, 조건에 맞는 오프라인 날짜 정하는 프로그램 작성\n",
        "- 날짜는 무작위로 뽑는다.\n",
        "- 28일까지만 날짜를 선정한다.\n",
        "- 매월 1-3일은 제외한다.\n",
        "- 실행결과는 '오프라인 스터디 모임날짜는 매월 00일로 선정됐습니다.'\n"
      ],
      "metadata": {
        "id": "5gzeK_K--g9F"
      }
    },
    {
      "cell_type": "markdown",
      "source": [
        "## 2) 연산자 이용 온도 단위 변환 프로그램 만들기\n",
        "### 조건\n",
        "- 섭씨 온도를 저장하기 위한 변수를 만든다.\n",
        "- 화씨온도 = (섭씨온도 * 9 / 5)+32\n",
        "- 섭씨 온도를 입력하면 화씨온도와 함께 출력되도록 한다.\n",
        "- ex; 섭씨 온도 : 30, 화씨 온도 : 86.0"
      ],
      "metadata": {
        "id": "iBLSQHgV_K7l"
      }
    },
    {
      "cell_type": "code",
      "source": [],
      "metadata": {
        "id": "mrdpF4mwwi_L"
      },
      "execution_count": null,
      "outputs": []
    }
  ]
}