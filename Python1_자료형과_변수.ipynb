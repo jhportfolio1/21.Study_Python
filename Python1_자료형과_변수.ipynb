{
  "nbformat": 4,
  "nbformat_minor": 0,
  "metadata": {
    "colab": {
      "provenance": [],
      "authorship_tag": "ABX9TyPfPwXI+fDT6ZHkzRjdIjsc",
      "include_colab_link": true
    },
    "kernelspec": {
      "name": "python3",
      "display_name": "Python 3"
    },
    "language_info": {
      "name": "python"
    }
  },
  "cells": [
    {
      "cell_type": "markdown",
      "metadata": {
        "id": "view-in-github",
        "colab_type": "text"
      },
      "source": [
        "<a href=\"https://colab.research.google.com/github/jhportfolio1/SelfStudy-Python/blob/main/Python1_%EC%9E%90%EB%A3%8C%ED%98%95%EA%B3%BC_%EB%B3%80%EC%88%98.ipynb\" target=\"_parent\"><img src=\"https://colab.research.google.com/assets/colab-badge.svg\" alt=\"Open In Colab\"/></a>"
      ]
    },
    {
      "cell_type": "markdown",
      "source": [
        "# 1. 자료형"
      ],
      "metadata": {
        "id": "_WefTQV1qmiN"
      }
    },
    {
      "cell_type": "markdown",
      "source": [
        "## 1) 숫자 자료형"
      ],
      "metadata": {
        "id": "v6IPCA21qwHA"
      }
    },
    {
      "cell_type": "markdown",
      "source": [
        "- 숫자 자형은 정수형, 실수형 등이 있고, 별도 표시 없이 () 안에 숫자 넣으면 출력됨"
      ],
      "metadata": {
        "id": "75x-w4k1xNzy"
      }
    },
    {
      "cell_type": "code",
      "source": [
        "print(-10)\n",
        "print(3.14)\n",
        "print(1000)"
      ],
      "metadata": {
        "colab": {
          "base_uri": "https://localhost:8080/"
        },
        "id": "BjXstBdMyu0b",
        "outputId": "bebfef5d-89f5-45ab-bea7-6a15ca722835"
      },
      "execution_count": 2,
      "outputs": [
        {
          "output_type": "stream",
          "name": "stdout",
          "text": [
            "-10\n",
            "3.14\n",
            "1000\n"
          ]
        }
      ]
    },
    {
      "cell_type": "markdown",
      "source": [
        "## 2) 문자열 자료형"
      ],
      "metadata": {
        "id": "VJKCDE4Mqz9V"
      }
    },
    {
      "cell_type": "markdown",
      "source": [
        "- 문자를 '', \"\" 사이에 넣으면 문자열로 인식하고 출력됨\n",
        "- 문자열에서 작은따옴표''와 큰따옴표\"\"의 차이는 없음"
      ],
      "metadata": {
        "id": "AmgMY2cRxxUS"
      }
    },
    {
      "cell_type": "code",
      "source": [
        "print('풍선')\n",
        "print(\"나비\")\n",
        "print(\"abc\")"
      ],
      "metadata": {
        "colab": {
          "base_uri": "https://localhost:8080/"
        },
        "id": "rvhq6PtWy8xw",
        "outputId": "dd7dfc99-3775-4d1e-e584-d3422c032063"
      },
      "execution_count": 5,
      "outputs": [
        {
          "output_type": "stream",
          "name": "stdout",
          "text": [
            "풍선\n",
            "나비\n",
            "abc\n"
          ]
        }
      ]
    },
    {
      "cell_type": "markdown",
      "source": [
        "## 3) 불 자료형"
      ],
      "metadata": {
        "id": "vo4FwUEiq1yN"
      }
    },
    {
      "cell_type": "markdown",
      "source": [
        "- 참(True)와 거짓(False)를 판별함\n",
        "- not이라는 연산자를 통해 반대값을 도출할 수도 있음"
      ],
      "metadata": {
        "id": "EVMSw60izcyV"
      }
    },
    {
      "cell_type": "code",
      "source": [
        "print(5>10)\n",
        "print(5<10)\n",
        "print(not True)\n",
        "print(not False)"
      ],
      "metadata": {
        "colab": {
          "base_uri": "https://localhost:8080/"
        },
        "id": "wW4iNCNezogZ",
        "outputId": "6274dc4f-ca37-40f3-96fd-9ef835876ceb"
      },
      "execution_count": 6,
      "outputs": [
        {
          "output_type": "stream",
          "name": "stdout",
          "text": [
            "False\n",
            "True\n",
            "False\n",
            "True\n"
          ]
        }
      ]
    },
    {
      "cell_type": "markdown",
      "source": [
        "\n",
        "\n",
        "---\n",
        "\n",
        "\n",
        "\n",
        "---\n",
        "\n"
      ],
      "metadata": {
        "id": "7pSaEell2d7K"
      }
    },
    {
      "cell_type": "markdown",
      "source": [
        "# 2. 변수"
      ],
      "metadata": {
        "id": "UOzwZwu-q3gY"
      }
    },
    {
      "cell_type": "markdown",
      "source": [
        "## 1) 변수 정의하기"
      ],
      "metadata": {
        "id": "b3EVM-y5q7VT"
      }
    },
    {
      "cell_type": "markdown",
      "source": [
        "- 변수 정의하기 : 변수명=값\n",
        "- 변수는 소문자, 대문자를 구분하여 apple, Apple, ApPle 모두 다른 변수임\n",
        "- 변수는 숫자로 시작할 수 없음\n"
      ],
      "metadata": {
        "id": "jW6McfE9z5zB"
      }
    },
    {
      "cell_type": "markdown",
      "source": [
        "## 2) 변수 사용하기"
      ],
      "metadata": {
        "id": "vI7nra7cq9h2"
      }
    },
    {
      "cell_type": "markdown",
      "source": [
        "- 파이썬에서 사용이 예약된 문자열(키워드)는 변수명으로 사용할 수 없음\n",
        "- 문자열과 변수를 연결할 때 (+)를 사용한다면 모든 변수를 같은 형태(문자형 or 숫자형)으로 맞춰주고, (,)를 사용한다면 그냥 쓰면 된다."
      ],
      "metadata": {
        "id": "PPVwMI141mAj"
      }
    },
    {
      "cell_type": "code",
      "source": [
        "print(\"반려동물을 소개해주세요.\")\n",
        "print(\"우리 집 반려동물은 \" + animal + \"인데, 이름은 \" + name + \"이에요.\")\n",
        "print(name+ \"는\" + str(age) + \"살이고\" + hobby + \"을 아주 좋아해요.\")"
      ],
      "metadata": {
        "colab": {
          "base_uri": "https://localhost:8080/"
        },
        "id": "ohAUQVhf1oi1",
        "outputId": "b535b255-7639-4d87-88f1-23d135a05c69"
      },
      "execution_count": 14,
      "outputs": [
        {
          "output_type": "stream",
          "name": "stdout",
          "text": [
            "반려동물을 소개해주세요.\n",
            "우리 집 반려동물은 강아지인데, 이름은 두부이에요.\n",
            "두부는9살이고산책을 아주 좋아해요.\n"
          ]
        }
      ]
    },
    {
      "cell_type": "code",
      "source": [
        "print(\"반려동물을 소개해주세요.\")\n",
        "print(\"우리 집 반려동물은 \", animal, \"인데, 이름은 \", name, \"이에요.\")\n",
        "print(name+ \"는\", age,  \"살이고\", hobby, \"을 아주 좋아해요.\")"
      ],
      "metadata": {
        "colab": {
          "base_uri": "https://localhost:8080/"
        },
        "id": "YX6q0z_S1qY4",
        "outputId": "3cb4068a-2bac-4d79-ef77-c2eab51297e4"
      },
      "execution_count": 15,
      "outputs": [
        {
          "output_type": "stream",
          "name": "stdout",
          "text": [
            "반려동물을 소개해주세요.\n",
            "우리 집 반려동물은  강아지 인데, 이름은  두부 이에요.\n",
            "두부는 9 살이고 산책 을 아주 좋아해요.\n"
          ]
        }
      ]
    },
    {
      "cell_type": "markdown",
      "source": [
        "## 3) 형변환하기"
      ],
      "metadata": {
        "id": "A91Gdib9q_rA"
      }
    },
    {
      "cell_type": "markdown",
      "source": [
        "- 문자형으로 변환 : str()"
      ],
      "metadata": {
        "id": "uXsxcHtR1tq2"
      }
    },
    {
      "cell_type": "code",
      "source": [
        "print(str(3) + \"입니다.\")\n",
        "print(str(3.5) + \"입니다.\")"
      ],
      "metadata": {
        "colab": {
          "base_uri": "https://localhost:8080/"
        },
        "id": "DRqLE42X2XuU",
        "outputId": "95f604db-c360-49fd-fca5-e0961156df3a"
      },
      "execution_count": 16,
      "outputs": [
        {
          "output_type": "stream",
          "name": "stdout",
          "text": [
            "3입니다.\n",
            "3.5입니다.\n"
          ]
        }
      ]
    },
    {
      "cell_type": "markdown",
      "source": [
        "- 정수형으로 변환 : int()"
      ],
      "metadata": {
        "id": "TFB_AhV52T8M"
      }
    },
    {
      "cell_type": "code",
      "source": [
        "print(int(\"3\"))\n",
        "print(int(3.5))"
      ],
      "metadata": {
        "colab": {
          "base_uri": "https://localhost:8080/"
        },
        "id": "mPbYRbmi2ZQH",
        "outputId": "4851ec6f-b01e-4261-d965-416423c5a813"
      },
      "execution_count": 17,
      "outputs": [
        {
          "output_type": "stream",
          "name": "stdout",
          "text": [
            "3\n",
            "3\n"
          ]
        }
      ]
    },
    {
      "cell_type": "markdown",
      "source": [
        "- 실수형으로 변환 : float()"
      ],
      "metadata": {
        "id": "prqIHenL2UDW"
      }
    },
    {
      "cell_type": "code",
      "source": [
        "print(float(\"3.5\"))\n",
        "print(float(3))"
      ],
      "metadata": {
        "colab": {
          "base_uri": "https://localhost:8080/"
        },
        "id": "3j-HFBhF2ak4",
        "outputId": "2fceed4b-2c91-4401-eaad-679a3269a480"
      },
      "execution_count": 18,
      "outputs": [
        {
          "output_type": "stream",
          "name": "stdout",
          "text": [
            "3.5\n",
            "3.0\n"
          ]
        }
      ]
    },
    {
      "cell_type": "markdown",
      "source": [
        "## 4) 변수를 사용할 때 주의점"
      ],
      "metadata": {
        "id": "rj3TAlVwrCAQ"
      }
    },
    {
      "cell_type": "markdown",
      "source": [
        "- 변수 타입 확인 : ytpe()\n",
        "- 변수는 사용하기 전에 정의한다.\n",
        "- 변수는 사용하기 전에 마지막으로 저장한 값을 사용한다."
      ],
      "metadata": {
        "id": "tX1ckASt2ggW"
      }
    },
    {
      "cell_type": "markdown",
      "source": [
        "----\n"
      ],
      "metadata": {
        "id": "KeHbc18Pq5fP"
      }
    },
    {
      "cell_type": "markdown",
      "source": [
        "# 3. 주석"
      ],
      "metadata": {
        "id": "TXrCWtqBrJJE"
      }
    },
    {
      "cell_type": "markdown",
      "source": [
        "- 주석처리는 문장 앞에 #을 붙이면 된다.\n",
        "- 긴 문장은 앞뒤로 따옴표 3개씩 붙이면 된다. '''-----'''"
      ],
      "metadata": {
        "id": "44KbUrEd28Jv"
      }
    },
    {
      "cell_type": "code",
      "source": [
        "#print(\"반려동물을 소개해주세요.\")\n",
        "''' 오늘 우리가 배워볼 것은 파이썬입니다. 재미있겠지요? 저도 그렇게 생각합니다. '''"
      ],
      "metadata": {
        "colab": {
          "base_uri": "https://localhost:8080/",
          "height": 35
        },
        "id": "l1ZwmCd33E0U",
        "outputId": "8e905e60-118a-45ce-9030-3a2ad6ce8e4b"
      },
      "execution_count": 23,
      "outputs": [
        {
          "output_type": "execute_result",
          "data": {
            "text/plain": [
              "' 오늘 우리가 배워볼 것은 파이썬입니다. 재미있겠지요? 저도 그렇게 생각합니다. '"
            ],
            "application/vnd.google.colaboratory.intrinsic+json": {
              "type": "string"
            }
          },
          "metadata": {},
          "execution_count": 23
        }
      ]
    },
    {
      "cell_type": "markdown",
      "source": [
        "---"
      ],
      "metadata": {
        "id": "b16nSOYQrah9"
      }
    },
    {
      "cell_type": "markdown",
      "source": [
        "#4. 연습문제"
      ],
      "metadata": {
        "id": "DKZvQ7BWrbrQ"
      }
    },
    {
      "cell_type": "markdown",
      "source": [
        "## 1) 역 이름 출력하기"
      ],
      "metadata": {
        "id": "4uizEPxC3e2-"
      }
    },
    {
      "cell_type": "markdown",
      "source": [
        "### (1) 문제 : 변수를 사용해 다음 문장을 출력하세요.\n",
        "### (2) 조건\n",
        "- 변수명은 station으로 한다.\n",
        "- 값은 변수에 '사당, 신도림, 인천공항' 순으로 저장한다.\n",
        "- 실행결과는 다음과 같은 형태로 나와야 한다.\n",
        "\n",
        "### (3) 실행결과\n",
        "- 변수에 사당 넣었을 때 : 사당행 열차가 들어오고 있습니다."
      ],
      "metadata": {
        "id": "cnbIr6ZE3zr3"
      }
    },
    {
      "cell_type": "markdown",
      "source": [
        "## 2) 배송상태 안내프로그램\n",
        "### (1) 문제 : 변수를 사용해 택배 배송 상태 안내 프로그램 작성하세요.\n",
        "### (2) 조건\n",
        "- 변수명은 status 로 한다.\n",
        "- 값은 변수에 '상품준비, 배송중, 배송완료' 순으로 저장한다.\n",
        "- 실행결과는 다음과 같은 형태로 나와야 한다.\n",
        "\n",
        "### (3) 결과\n",
        "- 변수에 '상품준비' 넣었을 때 -> 주문상태 : 상품준비\n",
        "- 변수에 '배송 중' 넣었을 때 -> 주문상태 : 배송 중 \n",
        "- 변수에 '배송 완료' 넣었을 때 -> 주문상태 : 배송 완료"
      ],
      "metadata": {
        "id": "fML3z4HA4RAd"
      }
    },
    {
      "cell_type": "code",
      "source": [],
      "metadata": {
        "id": "Hl5jUuiO3xO3"
      },
      "execution_count": null,
      "outputs": []
    }
  ]
}