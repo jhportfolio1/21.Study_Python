{
  "nbformat": 4,
  "nbformat_minor": 0,
  "metadata": {
    "colab": {
      "provenance": [],
      "authorship_tag": "ABX9TyPbYK3kqPywjLZbSjde6NiJ",
      "include_colab_link": true
    },
    "kernelspec": {
      "name": "python3",
      "display_name": "Python 3"
    },
    "language_info": {
      "name": "python"
    }
  },
  "cells": [
    {
      "cell_type": "markdown",
      "metadata": {
        "id": "view-in-github",
        "colab_type": "text"
      },
      "source": [
        "<a href=\"https://colab.research.google.com/github/jhportfolio1/SelfStudy-Python/blob/main/Python7_%EC%9E%85%EC%B6%9C%EB%A0%A5.ipynb\" target=\"_parent\"><img src=\"https://colab.research.google.com/assets/colab-badge.svg\" alt=\"Open In Colab\"/></a>"
      ]
    },
    {
      "cell_type": "markdown",
      "source": [
        "# 1. input() : 표준 입력받기"
      ],
      "metadata": {
        "id": "yX1kM5CAMHea"
      }
    },
    {
      "cell_type": "markdown",
      "source": [
        "- input() 에 숫자를 입력하는 경우 문자열로 처리한다.\n",
        "- input() 을 통해 숫자 계산을 하고 싶다면, int로 타입을 바꿔야 한다."
      ],
      "metadata": {
        "id": "ntPF_Zsk0Isl"
      }
    },
    {
      "cell_type": "code",
      "source": [
        "answer = input(\"아무 값이나 입력하세요.\")\n",
        "print(\"입력한 값은\" + answer + \"입니다.\")\n",
        "print(type(answer))"
      ],
      "metadata": {
        "colab": {
          "base_uri": "https://localhost:8080/"
        },
        "id": "m9TsIUZK0Y3M",
        "outputId": "9da0a657-2fd7-4aca-811c-90b4893fbb51"
      },
      "execution_count": 3,
      "outputs": [
        {
          "output_type": "stream",
          "name": "stdout",
          "text": [
            "아무 값이나 입력하세요.4\n",
            "입력한 값은4입니다.\n",
            "<class 'str'>\n"
          ]
        }
      ]
    },
    {
      "cell_type": "code",
      "source": [
        "print(type(int(answer)))\n",
        "answer = 10\n",
        "print(type(answer))"
      ],
      "metadata": {
        "colab": {
          "base_uri": "https://localhost:8080/"
        },
        "id": "_rxC27J81CMF",
        "outputId": "ba1af56c-db40-4e8a-85c1-f928161c18af"
      },
      "execution_count": 2,
      "outputs": [
        {
          "output_type": "stream",
          "name": "stdout",
          "text": [
            "<class 'int'>\n",
            "<class 'int'>\n"
          ]
        }
      ]
    },
    {
      "cell_type": "markdown",
      "source": [
        "# 2. 표준 출력시 유용한 기능"
      ],
      "metadata": {
        "id": "SBHHqrDuMHgi"
      }
    },
    {
      "cell_type": "markdown",
      "source": [
        "## 1) sep : 구분자 넣기"
      ],
      "metadata": {
        "id": "WSjH5RTzMHia"
      }
    },
    {
      "cell_type": "markdown",
      "source": [
        "- 출력문 가운데 쉼표를 넣어서 구분할 수 있다."
      ],
      "metadata": {
        "id": "oveW_vOZ1TxM"
      }
    },
    {
      "cell_type": "code",
      "source": [
        "print(\"파이썬\", \"자바\")\n",
        "print(\"파이썬\" + \"자바\")\n",
        "print(\"파이썬\", \"자바\", sep=\",\")"
      ],
      "metadata": {
        "colab": {
          "base_uri": "https://localhost:8080/"
        },
        "id": "gwoMsgMO1a63",
        "outputId": "f1c66e42-0bf8-4886-e4b7-ec4dbc33b466"
      },
      "execution_count": 4,
      "outputs": [
        {
          "output_type": "stream",
          "name": "stdout",
          "text": [
            "파이썬 자바\n",
            "파이썬자바\n",
            "파이썬,자바\n"
          ]
        }
      ]
    },
    {
      "cell_type": "markdown",
      "source": [
        "## 2) end : 문장 끝 지정하기"
      ],
      "metadata": {
        "id": "SSSjSpihMHkW"
      }
    },
    {
      "cell_type": "markdown",
      "source": [
        "- 문장 끝에 물음표나 느낌표를 넣을 수 있다.\n",
        "- 다음 문장을 같은 줄에 한줄로 출력한다."
      ],
      "metadata": {
        "id": "Z2IaMcsz1lII"
      }
    },
    {
      "cell_type": "code",
      "source": [
        "print(\"파이썬\", \"자바\", sep=\",\", end=\"?\")\n",
        "print(\"무엇이 더 재미있을까요?\")"
      ],
      "metadata": {
        "colab": {
          "base_uri": "https://localhost:8080/"
        },
        "id": "sLvAfP4B1p28",
        "outputId": "134b0518-6152-46b1-eb80-d3840ac375fa"
      },
      "execution_count": 5,
      "outputs": [
        {
          "output_type": "stream",
          "name": "stdout",
          "text": [
            "파이썬,자바?무엇이 더 재미있을까요?\n"
          ]
        }
      ]
    },
    {
      "cell_type": "code",
      "source": [
        "print(\"파이썬\", \"자바\", sep=\",\")\n",
        "print(\"무엇이 더 재미있을까요?\")"
      ],
      "metadata": {
        "colab": {
          "base_uri": "https://localhost:8080/"
        },
        "id": "InrqcUts158J",
        "outputId": "a78e93d9-51f1-469a-b412-a233bf93a334"
      },
      "execution_count": 6,
      "outputs": [
        {
          "output_type": "stream",
          "name": "stdout",
          "text": [
            "파이썬,자바\n",
            "무엇이 더 재미있을까요?\n"
          ]
        }
      ]
    },
    {
      "cell_type": "markdown",
      "source": [
        "## 3) ljust()와 rjust() : 공간 확보해 정렬하기"
      ],
      "metadata": {
        "id": "0L-yYWXkMHoW"
      }
    },
    {
      "cell_type": "markdown",
      "source": [
        "- ljust(5) : 왼쪽 정렬 / 총 5칸 차지\n",
        "- rjust(10) : 오른쪽 정렬 / 총 10칸 차지"
      ],
      "metadata": {
        "id": "Jja0TKt72SeU"
      }
    },
    {
      "cell_type": "code",
      "source": [
        "scores = {\"수학\":0, \"영어\":50, \"코딩\":100}\n",
        "\n",
        "for subject, score in scores.items():\n",
        "  print(subject, score)"
      ],
      "metadata": {
        "colab": {
          "base_uri": "https://localhost:8080/"
        },
        "id": "e1_4vZIn2ew4",
        "outputId": "fd404c32-5f45-42b2-abc7-214b9cecf10b"
      },
      "execution_count": 7,
      "outputs": [
        {
          "output_type": "stream",
          "name": "stdout",
          "text": [
            "수학 0\n",
            "영어 50\n",
            "코딩 100\n"
          ]
        }
      ]
    },
    {
      "cell_type": "code",
      "source": [
        "scores = {\"수학\":0, \"영어\":50, \"코딩\":100}\n",
        "\n",
        "for subject, score in scores.items():\n",
        "  print(subject.ljust(8), str(score).rjust(4), sep=\":\")"
      ],
      "metadata": {
        "colab": {
          "base_uri": "https://localhost:8080/"
        },
        "id": "VvopQSj02peT",
        "outputId": "96e2caf5-c03f-4d63-d59c-d06225dbcb66"
      },
      "execution_count": 8,
      "outputs": [
        {
          "output_type": "stream",
          "name": "stdout",
          "text": [
            "수학      :   0\n",
            "영어      :  50\n",
            "코딩      : 100\n"
          ]
        }
      ]
    },
    {
      "cell_type": "markdown",
      "source": [
        "## 4) zfill : 빈칸 0으로 채우기"
      ],
      "metadata": {
        "id": "TbebgbchMHrD"
      }
    },
    {
      "cell_type": "markdown",
      "source": [
        "- 숫자 1, 2, 3, 10, 11, 99를 모두 3자리로 맞출때 등 사용"
      ],
      "metadata": {
        "id": "tfCYrHll3RU1"
      }
    },
    {
      "cell_type": "code",
      "source": [
        "for num in (1, 2, 11, 12, 99):\n",
        "  print(\"대기번호 : \" + str(num))"
      ],
      "metadata": {
        "colab": {
          "base_uri": "https://localhost:8080/"
        },
        "id": "Yg-2pdNO3bix",
        "outputId": "901f55de-4b91-441e-8191-3b9c3e8c29a7"
      },
      "execution_count": 21,
      "outputs": [
        {
          "output_type": "stream",
          "name": "stdout",
          "text": [
            "대기번호 : 1\n",
            "대기번호 : 2\n",
            "대기번호 : 11\n",
            "대기번호 : 12\n",
            "대기번호 : 99\n"
          ]
        }
      ]
    },
    {
      "cell_type": "code",
      "source": [
        "for num in (1, 2, 11, 12, 99):\n",
        "  print(\"대기번호 : \" + str(num).zfill(3))"
      ],
      "metadata": {
        "colab": {
          "base_uri": "https://localhost:8080/"
        },
        "id": "0LnUEMbz4Kmc",
        "outputId": "0a235c8e-e654-44c1-c231-5cf7cc136aaf"
      },
      "execution_count": 22,
      "outputs": [
        {
          "output_type": "stream",
          "name": "stdout",
          "text": [
            "대기번호 : 001\n",
            "대기번호 : 002\n",
            "대기번호 : 011\n",
            "대기번호 : 012\n",
            "대기번호 : 099\n"
          ]
        }
      ]
    },
    {
      "cell_type": "markdown",
      "source": [
        "# 3. format[ ] : 다양한 형식으로 출력하기"
      ],
      "metadata": {
        "id": "ujKWw4geMHtG"
      }
    },
    {
      "cell_type": "markdown",
      "source": [
        "- 세자리마다 쉽표 찍기"
      ],
      "metadata": {
        "id": "zejL8gTf61BH"
      }
    },
    {
      "cell_type": "code",
      "source": [
        "print(\"{0:,}\".format(100000000000))\n",
        "print(\"{0:+,}\".format(10000000000))\n",
        "print(\"{0:+,}\".format(-10000000000))"
      ],
      "metadata": {
        "colab": {
          "base_uri": "https://localhost:8080/"
        },
        "id": "wJUcobIh6tGv",
        "outputId": "087c6a0d-43cf-4daf-fc8f-be0ebc58d0db"
      },
      "execution_count": 24,
      "outputs": [
        {
          "output_type": "stream",
          "name": "stdout",
          "text": [
            "100,000,000,000\n",
            "+10,000,000,000\n",
            "-10,000,000,000\n"
          ]
        }
      ]
    },
    {
      "cell_type": "markdown",
      "source": [
        "- 복잡한 형태 출력\n",
        "- 공간30칸 확보, 왼쪽정렬, 3자리마다 쉼표찍기"
      ],
      "metadata": {
        "id": "gWLff4lP62_3"
      }
    },
    {
      "cell_type": "code",
      "source": [
        "print(\"{0:^<+30,}\".format(10000000000))"
      ],
      "metadata": {
        "colab": {
          "base_uri": "https://localhost:8080/"
        },
        "id": "VbNaM6ZE655X",
        "outputId": "8fe3d53f-97a1-4d3d-acac-75d665bde47e"
      },
      "execution_count": 25,
      "outputs": [
        {
          "output_type": "stream",
          "name": "stdout",
          "text": [
            "+10,000,000,000^^^^^^^^^^^^^^^\n"
          ]
        }
      ]
    },
    {
      "cell_type": "markdown",
      "source": [
        "- 5나누기 7을 소수점 둘째자리까지 출력\n"
      ],
      "metadata": {
        "id": "AkQycvtm7TLP"
      }
    },
    {
      "cell_type": "code",
      "source": [
        "print(\"{0:.2f}\".format(5/7))"
      ],
      "metadata": {
        "colab": {
          "base_uri": "https://localhost:8080/"
        },
        "id": "RVyiFI-P7Zui",
        "outputId": "72ea025b-f872-49f9-ada5-42d090e4586d"
      },
      "execution_count": 26,
      "outputs": [
        {
          "output_type": "stream",
          "name": "stdout",
          "text": [
            "0.71\n"
          ]
        }
      ]
    },
    {
      "cell_type": "markdown",
      "source": [
        "# 4. 파일 입출력"
      ],
      "metadata": {
        "id": "Ag_wTaqMMHwF"
      }
    },
    {
      "cell_type": "markdown",
      "source": [
        "## 1) open(), close() : 파일 열고 닫기"
      ],
      "metadata": {
        "id": "Uz7Sc-2cMHyG"
      }
    },
    {
      "cell_type": "markdown",
      "source": [
        "- open(\"파일명\", \"모드\", encoding=\"인코딩형식\")"
      ],
      "metadata": {
        "id": "9loPUvu07_oS"
      }
    },
    {
      "cell_type": "markdown",
      "source": [
        "- r (읽기/read) : 파일 내용 읽어오기 위한 모드\n",
        "- w (쓰기/write) : 파일 내용 쓰기 위한 모드, 새로 쓰면 덮어짐\n",
        "- a (이어쓰기/append) : 기존 파일에 이어서 쓰기"
      ],
      "metadata": {
        "id": "tTAMNc1c7kdX"
      }
    },
    {
      "cell_type": "code",
      "source": [
        "score_file = open(\"score.txt\", \"w\", encoding=\"utf8\")\n",
        "print(\"수학 : 100\", file=score_file)\n",
        "print(\"영어 : 100\", file=score_file)\n",
        "score_file.close()"
      ],
      "metadata": {
        "id": "cuLb4fmM8MI4"
      },
      "execution_count": 27,
      "outputs": []
    },
    {
      "cell_type": "markdown",
      "source": [
        "![image.png](data:image/png;base64,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)"
      ],
      "metadata": {
        "id": "L-PXEwfT8nRH"
      }
    },
    {
      "cell_type": "markdown",
      "source": [
        "![image.png](data:image/png;base64,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)"
      ],
      "metadata": {
        "id": "DxomBVR18vBB"
      }
    },
    {
      "cell_type": "markdown",
      "source": [
        "## 2) write() : 파일 쓰기"
      ],
      "metadata": {
        "id": "cIP3wFE_MHzV"
      }
    },
    {
      "cell_type": "markdown",
      "source": [
        "- 이어쓰기 이므로 a모드로 열기"
      ],
      "metadata": {
        "id": "AuwDgmxN8ruz"
      }
    },
    {
      "cell_type": "code",
      "source": [
        "score_file = open(\"score.txt\", \"a\", encoding=\"utf8\")\n",
        "score_file.write(\"과학 : 100\")\n",
        "score_file.write(\"코딩 : 100\")\n",
        "score_file.close()"
      ],
      "metadata": {
        "id": "dhTcixlx81uB"
      },
      "execution_count": 30,
      "outputs": []
    },
    {
      "cell_type": "markdown",
      "source": [
        "## 3) read(), readline(), readlines() : 파일 읽기"
      ],
      "metadata": {
        "id": "GzlnHyBkMyKI"
      }
    },
    {
      "cell_type": "markdown",
      "source": [
        "- read() : 파일 내용 한번에 읽어 오기\n",
        "- readline() : 파일 내용 한 줄씩 읽어오기\n",
        "- readlines() ; 파일 내용 줄 단위로 나뉜 리스트 형태로 한번에 읽어오기"
      ],
      "metadata": {
        "id": "HT0OxuNl9c8Q"
      }
    },
    {
      "cell_type": "markdown",
      "source": [
        "# 5. pickle 모듈 : 데이터를 파일로 저장하기 "
      ],
      "metadata": {
        "id": "-05QdG6gMyL0"
      }
    },
    {
      "cell_type": "markdown",
      "source": [
        "- 저장시 : dump(저장할 데이터, 저장할 파일명)\n",
        "- 불러올 때 : load(불러올 파일명)\n",
        "- 텍스트 파일 :글자만 저장함 -> rt, rw\n",
        "- 바이너리 파일 : 사진, 동영상, 실행 파일 등 해당 -> rb, wb"
      ],
      "metadata": {
        "id": "6nUj_rOg-bJt"
      }
    },
    {
      "cell_type": "code",
      "source": [
        "import pickle\n",
        "\n",
        "profile_file = open(\"profile.pickle\", \"wb\")\n",
        "profile = {\"이름\":\"박지혜\", \"나이\":32, \"취미\":[\"코딩\", \"피아노\", \"골프\"]}\n",
        "print(profile)\n",
        "\n",
        "pickle.dump(profile, profile_file)\n",
        "profile_file.close"
      ],
      "metadata": {
        "colab": {
          "base_uri": "https://localhost:8080/"
        },
        "id": "L5cRqXVi-vId",
        "outputId": "a0159e7f-e430-4cc4-c6cb-495e919a648a"
      },
      "execution_count": 37,
      "outputs": [
        {
          "output_type": "stream",
          "name": "stdout",
          "text": [
            "{'이름': '박지혜', '나이': 32, '취미': ['코딩', '피아노', '골프']}\n"
          ]
        },
        {
          "output_type": "execute_result",
          "data": {
            "text/plain": [
              "<function BufferedWriter.close>"
            ]
          },
          "metadata": {},
          "execution_count": 37
        }
      ]
    },
    {
      "cell_type": "markdown",
      "source": [
        "# 7. 연습 문제"
      ],
      "metadata": {
        "id": "yygbMwruMyRo"
      }
    },
    {
      "cell_type": "markdown",
      "source": [
        "## 1) 보고서 파일 만들기\n",
        "\n",
        "###문제 \n",
        "- 회사에서 매주 1회 보고서, 1주차-50주차 까지 보고서 파일 작성 프로그램\n",
        "\n",
        "###조건\n",
        "- 파일명 \n",
        "- 1주차.txt\n",
        "- 2주차.txt\n",
        "\n",
        "###실행결과\n",
        "- -35주차 주간보고-\n",
        "- 부서:\n",
        "- 이름:\n",
        "- 업무요약:"
      ],
      "metadata": {
        "id": "TZNLejcH__U9"
      }
    },
    {
      "cell_type": "markdown",
      "source": [
        "## 2) 유치원생 정보 프로그램\n",
        "\n",
        "### 문제\n",
        "- 각반 정보 출력 프로그램 작성 \n",
        "\n",
        "### 조건\n",
        "- 텍스트 파일명 class.txt\n",
        "- 파일내용 : 초록반 5세 20명 파랑반 6세 18명 노랑반 7세 22명 \n",
        "- 생성한 파일 내용 각각 빈칸으로 구분해 출력한다. split() 활용\n",
        "- 정보가 '명'으로 끝나면 줄 바꿈한다. endswith() 활용\n",
        "\n",
        "### 실행결과\n",
        "- 초록반 5세 20명\n",
        "- 파랑반 6세 18명\n",
        "- 노랑반 7세 22명"
      ],
      "metadata": {
        "id": "UwiR5PlHAatX"
      }
    },
    {
      "cell_type": "markdown",
      "source": [
        "### 힌트"
      ],
      "metadata": {
        "id": "TxeH1mrvA4fy"
      }
    },
    {
      "cell_type": "code",
      "source": [
        "print(\"파이썬, 자바\".split(\",\"))\n",
        "print(\"파이썬 자바\".split())"
      ],
      "metadata": {
        "id": "gSvjA8LHNELV",
        "colab": {
          "base_uri": "https://localhost:8080/"
        },
        "outputId": "9b2b6ec3-1831-41ed-d70e-74602bbef588"
      },
      "execution_count": 39,
      "outputs": [
        {
          "output_type": "stream",
          "name": "stdout",
          "text": [
            "['파이썬', ' 자바']\n",
            "['파이썬', '자바']\n"
          ]
        }
      ]
    },
    {
      "cell_type": "code",
      "source": [
        "if \"새로운 것을 배웠어요\".endswith(\".\"):\n",
        "  print(\"이 문장은 마침표로 끝나요.\")\n",
        "\n",
        "if \"안녕하세요?\".startswith(\"안녕\"):\n",
        "  print(\"이 문장은 인사와 관련이 있어요.\")\n",
        "\n",
        "if \"안녕히 계세요\".endswith(\".\"):\n",
        "  print(\"이 문장은 출력되지 않아요.\")"
      ],
      "metadata": {
        "colab": {
          "base_uri": "https://localhost:8080/"
        },
        "id": "0bAp1Q6RBCd5",
        "outputId": "b59d6cd4-0058-46cf-e25b-07d90328c90e"
      },
      "execution_count": 40,
      "outputs": [
        {
          "output_type": "stream",
          "name": "stdout",
          "text": [
            "이 문장은 인사와 관련이 있어요.\n"
          ]
        }
      ]
    }
  ]
}